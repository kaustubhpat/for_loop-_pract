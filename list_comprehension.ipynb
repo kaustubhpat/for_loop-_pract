{
 "cells": [
  {
   "cell_type": "code",
   "execution_count": 1,
   "id": "63cfcebb-7023-4cd0-8ece-301d3c0eec7b",
   "metadata": {},
   "outputs": [
    {
     "name": "stdout",
     "output_type": "stream",
     "text": [
      "[1, 2, 3, 4, 5, 6, 7, 8, 9, 10]\n"
     ]
    }
   ],
   "source": [
    "#Make a list of numbers from 1 to 10.\n",
    "number = [i for i in range(1,11)]\n",
    "print(number)"
   ]
  },
  {
   "cell_type": "code",
   "execution_count": 2,
   "id": "0224e885-4804-4d69-845b-7b33da2272bc",
   "metadata": {},
   "outputs": [
    {
     "name": "stdout",
     "output_type": "stream",
     "text": [
      "6\n"
     ]
    }
   ],
   "source": [
    "#Make a list of numbers from 1 to 10 and  print only 5th index value.\n",
    "number = [i for i in range(1,11)]\n",
    "print(number[5])\n"
   ]
  },
  {
   "cell_type": "code",
   "execution_count": 3,
   "id": "1ef38481-0495-4d18-8424-c7dca35f4ebb",
   "metadata": {},
   "outputs": [
    {
     "name": "stdout",
     "output_type": "stream",
     "text": [
      "[10, 9, 8, 7, 6, 5, 4, 3, 2, 1]\n"
     ]
    }
   ],
   "source": [
    "#Make a list of numbers from 1 to 10 and print in reverse order\n",
    "number = [i for i in range(1,11)]\n",
    "print(number[::-1])"
   ]
  },
  {
   "cell_type": "code",
   "execution_count": 4,
   "id": "8f4957e5-c4ea-45ff-8dfe-6ecb1f4a67f3",
   "metadata": {},
   "outputs": [
    {
     "name": "stdout",
     "output_type": "stream",
     "text": [
      "[1, 4, 9, 16, 25, 36, 49, 64, 81, 100]\n"
     ]
    }
   ],
   "source": [
    "#Make a list of numbers from 1 to 10 and multiply each element by himself.\n",
    "number = [i*i for i in range(1,11)]\n",
    "print(number)\n"
   ]
  },
  {
   "cell_type": "code",
   "execution_count": 5,
   "id": "e68bb78f-7c80-4f84-a26a-2e13a5d75688",
   "metadata": {},
   "outputs": [
    {
     "name": "stdout",
     "output_type": "stream",
     "text": [
      "[4, 16, 36, 64, 100]\n"
     ]
    }
   ],
   "source": [
    "##Make a list of numbers from 1 to 10 and multiply each element by himself and print even number only.\n",
    "number = [i*i  for i in range(1,11) if i%2==0  ]\n",
    "print(number)"
   ]
  },
  {
   "cell_type": "code",
   "execution_count": null,
   "id": "4bf6c71a-607f-47e6-ae64-626f9bd2c310",
   "metadata": {},
   "outputs": [],
   "source": [
    "#Make a list of the cubes of numbers from 1 to 5\n",
    "k = [i**3 for i in range(1,6)]\n",
    "print(k)"
   ]
  },
  {
   "cell_type": "code",
   "execution_count": 6,
   "id": "c1884f8f-b523-49ac-84b6-31a61ccce843",
   "metadata": {},
   "outputs": [
    {
     "name": "stdout",
     "output_type": "stream",
     "text": [
      "[10, 20, 30, 40]\n"
     ]
    }
   ],
   "source": [
    "#Flatten this list: [[10, 20], [30, 40]].\n",
    "l=[[10, 20], [30, 40]]\n",
    "k=[i for sublist in l for i in sublist]\n",
    "print(k)"
   ]
  },
  {
   "cell_type": "code",
   "execution_count": 7,
   "id": "04864c30-8671-4634-ab5d-f9bce1786ff4",
   "metadata": {},
   "outputs": [
    {
     "name": "stdout",
     "output_type": "stream",
     "text": [
      "[10, 20, 30, 40, 50, 60]\n",
      "[10, 20, 30, 40, 50, 60]\n"
     ]
    }
   ],
   "source": [
    "#Flatten this list:[[10, 20], [30, 40], [50, 60]]\n",
    "data = [[10, 20], [30, 40], [50, 60]]\n",
    "l =[item for sublist in data for item in sublist] \n",
    "print(l)\n",
    "\n",
    "##or\n",
    "\n",
    "k=[]\n",
    "for sublist in data:\n",
    "    k.extend(sublist)\n",
    "\n",
    "print(k)"
   ]
  },
  {
   "cell_type": "code",
   "execution_count": 8,
   "id": "9322b234-8570-4269-bcc2-9cd6b6483d79",
   "metadata": {},
   "outputs": [
    {
     "name": "stdout",
     "output_type": "stream",
     "text": [
      "[10, 20, 30, 40, 50, 60, 10, 90]\n"
     ]
    }
   ],
   "source": [
    "#Flatten this list:[[10, 20], [30, 40], [50, 60],[10,90]]\n",
    "p= [[10, 20], [30, 40], [50, 60],[10,90]]\n",
    "l= [i for sublist in p for i in sublist]\n",
    "print(l)"
   ]
  },
  {
   "cell_type": "code",
   "execution_count": 9,
   "id": "73574d33-3630-4f2e-b76a-cfec65c7e208",
   "metadata": {},
   "outputs": [
    {
     "name": "stdout",
     "output_type": "stream",
     "text": [
      "[10, 20, 30, 40, 50, 90, 10, 90]\n"
     ]
    }
   ],
   "source": [
    "#Flatten this list:[[10, 20], [30, 40], [50, 90],[10,90]]\n",
    "a=[[10, 20], [30, 40], [50, 90],[10,90]]\n",
    "b= [i for sublist in a for i in sublist]\n",
    "print(b)"
   ]
  },
  {
   "cell_type": "code",
   "execution_count": 10,
   "id": "39f9e59a-1dac-4c9e-abee-0ca9db71d058",
   "metadata": {},
   "outputs": [
    {
     "name": "stdout",
     "output_type": "stream",
     "text": [
      "[10, 20, 3, 40, 50, 90, 10, 90]\n"
     ]
    }
   ],
   "source": [
    "#Flatten this list:[[10, 20], [3, 40], [50, 90],[10,90]]\n",
    "c= [[10, 20], [3, 40], [50, 90],[10,90]]\n",
    "d= [i for sublist in c for i in sublist ]\n",
    "print(d)"
   ]
  },
  {
   "cell_type": "code",
   "execution_count": 11,
   "id": "50c009b0-20e5-43cf-8d55-2aa526f9c14a",
   "metadata": {},
   "outputs": [
    {
     "name": "stdout",
     "output_type": "stream",
     "text": [
      "[10, 20, 3, 40, 50, 90, 10, 90]\n"
     ]
    }
   ],
   "source": [
    "#Flatten this list:[[10, 20], [3, 40], [50, 90],[10,90]]\n",
    "e=[[10, 20], [3, 40], [50, 90],[10,90]]\n",
    "f=[i for sublist in e for i in sublist]\n",
    "print(f)"
   ]
  },
  {
   "cell_type": "code",
   "execution_count": 12,
   "id": "38aad3a0-b17b-4a69-a9a0-780958a2b428",
   "metadata": {},
   "outputs": [
    {
     "name": "stdout",
     "output_type": "stream",
     "text": [
      "[10, 660, 3, 40, 50, 90, 10, 90]\n"
     ]
    }
   ],
   "source": [
    "g=[[10, 660], [3, 40], [50, 90],[10,90]]\n",
    "h=[i for sublist in g for i in sublist]\n",
    "print(h)"
   ]
  },
  {
   "cell_type": "code",
   "execution_count": 13,
   "id": "f4f2991c-5b6a-4a9c-963a-e07fec29afa4",
   "metadata": {},
   "outputs": [
    {
     "name": "stdout",
     "output_type": "stream",
     "text": [
      "['small', 'small', 'small', 'big', 'big']\n"
     ]
    }
   ],
   "source": [
    "#Make a list that says \"big\" for numbers greater than 3, otherwise \"small\", for numbers 1 to 5.\n",
    "data=[\"big\" if i>3 else \"small\" for i in range(1,6)]\n",
    "print(data)"
   ]
  },
  {
   "cell_type": "code",
   "execution_count": 14,
   "id": "e7b8a789-cee7-4bc6-a583-c9df05af88d1",
   "metadata": {},
   "outputs": [
    {
     "name": "stdout",
     "output_type": "stream",
     "text": [
      "[1, 2, 3, 4, 5, 6, 7, 8, 9, 10]\n"
     ]
    }
   ],
   "source": [
    "#Create a list of numbers from 1 to 10\n",
    "w=[i for i in range(1,11)]\n",
    "print(w)"
   ]
  },
  {
   "cell_type": "code",
   "execution_count": 15,
   "id": "03dd1076-824a-458a-a34f-dda0215fb96c",
   "metadata": {},
   "outputs": [
    {
     "name": "stdout",
     "output_type": "stream",
     "text": [
      "[1, 4, 9, 16, 25, 36, 49, 64, 81, 100]\n"
     ]
    }
   ],
   "source": [
    "#Generate a list of squares of numbers from 1 to 10.\n",
    "d= [i**2 for i in range(1,11)]\n",
    "print(d)"
   ]
  },
  {
   "cell_type": "code",
   "execution_count": 17,
   "id": "c51b2d89-1c13-486b-b977-4a5e4fcbf10f",
   "metadata": {},
   "outputs": [
    {
     "name": "stdout",
     "output_type": "stream",
     "text": [
      "[2, 4, 6, 8, 10, 12, 14, 16, 18, 20]\n"
     ]
    }
   ],
   "source": [
    "#Make a list of even numbers between 1 and 20.\n",
    "s= [i for i in range(1,21)if i%2==0]\n",
    "print(s)"
   ]
  },
  {
   "cell_type": "code",
   "execution_count": 18,
   "id": "2eab3042-a12b-4480-bc97-3f9c49ab4ca2",
   "metadata": {},
   "outputs": [
    {
     "name": "stdout",
     "output_type": "stream",
     "text": [
      "[101, 102, 103, 104, 105, 106, 107, 108, 109, 110]\n"
     ]
    }
   ],
   "source": [
    "#Create a list of numbers from 1 to 10, but add 100 to each number.\n",
    "x= [i+100 for i in range(1,11)]\n",
    "print(x)"
   ]
  },
  {
   "cell_type": "code",
   "execution_count": 19,
   "id": "b62882c5-8d60-4418-bcb0-8d8f49a5a27f",
   "metadata": {},
   "outputs": [
    {
     "name": "stdout",
     "output_type": "stream",
     "text": [
      "['num_1', 'num_2', 'num_3', 'num_4', 'num_5']\n"
     ]
    }
   ],
   "source": [
    "#Generate a list of strings: \"num_1\", \"num_2\", ..., \"num_5\".\n",
    "a= [f\"num_{i}\" for i in range(1,6)]\n",
    "print(a)"
   ]
  },
  {
   "cell_type": "code",
   "execution_count": 20,
   "id": "043040d3-49fa-4b11-a1fb-fa1c4dbe91b2",
   "metadata": {},
   "outputs": [
    {
     "name": "stdout",
     "output_type": "stream",
     "text": [
      "[3, 6, 9, 12, 15, 18, 21, 24, 27, 30]\n"
     ]
    }
   ],
   "source": [
    "#Create a list of all multiples of 3 between 1 and 30\n",
    "q= [i*3 for i in range(1,11)]\n",
    "print(q)"
   ]
  },
  {
   "cell_type": "code",
   "execution_count": 21,
   "id": "3cff7764-c9ae-4a92-8536-215cc998a7c9",
   "metadata": {},
   "outputs": [
    {
     "name": "stdout",
     "output_type": "stream",
     "text": [
      "[6, 2, 8, 4, 10, 6, 12, 8, 14, 10]\n"
     ]
    }
   ],
   "source": [
    "#Make a list of numbers from 1 to 10, but for odd numbers, add 5\n",
    "s= [i + 5 if i%2!=0 else i for i in range(1,11)]\n",
    "print(s)\n"
   ]
  },
  {
   "cell_type": "code",
   "execution_count": 22,
   "id": "dfef41fb-c301-44cc-9612-df2428c14745",
   "metadata": {},
   "outputs": [
    {
     "name": "stdout",
     "output_type": "stream",
     "text": [
      "['odd', 'even', 'odd', 'even', 'odd', 'even', 'odd', 'even', 'odd', 'even']\n"
     ]
    }
   ],
   "source": [
    "#Write a list that says \"even\" for even numbers and \"odd\" for odd numbers from 1 to 10\n",
    "l=[\"even\" if i%2==0 else \"odd\" for i in range(1,11)]\n",
    "print(l)"
   ]
  },
  {
   "cell_type": "code",
   "execution_count": 23,
   "id": "908df761-97f3-43c1-984c-9ccc8e1f3e3b",
   "metadata": {},
   "outputs": [
    {
     "name": "stdout",
     "output_type": "stream",
     "text": [
      "[1, 2, 3, 4, 5]\n"
     ]
    }
   ],
   "source": [
    "#Flatten this nested list: [[1, 2], [3, 4], [5]]\n",
    "data = [[1, 2], [3, 4], [5]]\n",
    "m=[i for sublist in data for i in sublist]\n",
    "print(m)\n"
   ]
  },
  {
   "cell_type": "code",
   "execution_count": 24,
   "id": "09e97990-77c2-468c-a1a6-592e4de5fe80",
   "metadata": {},
   "outputs": [
    {
     "name": "stdout",
     "output_type": "stream",
     "text": [
      "[(1, 'a'), (1, 'b'), (2, 'a'), (2, 'b'), (3, 'a'), (3, 'b')]\n"
     ]
    }
   ],
   "source": [
    "#Generate a list of pairs (tuples) for each number in [1, 2, 3] and each letter in ['a', 'b']\n",
    "s= [(num,letter) for num in [1,2,3] for letter in['a','b']]\n",
    "print(s)\n"
   ]
  },
  {
   "cell_type": "code",
   "execution_count": 25,
   "id": "443e58a1-3d8d-4107-8f3f-a41a082a2b55",
   "metadata": {},
   "outputs": [
    {
     "name": "stdout",
     "output_type": "stream",
     "text": [
      "[1, 2, 8, 4, 14]\n"
     ]
    }
   ],
   "source": [
    "#Make a list of the lengths of each word in this sentence: \"I am learning list comprehensions\"\n",
    "s= \"I am learning list comprehensions\"\n",
    "v= [len(word) for word in s.split()]\n",
    "print(v)"
   ]
  },
  {
   "cell_type": "code",
   "execution_count": 26,
   "id": "6753d484-2f75-4839-a785-1b847945cf91",
   "metadata": {},
   "outputs": [
    {
     "name": "stdout",
     "output_type": "stream",
     "text": [
      "['elephant']\n"
     ]
    }
   ],
   "source": [
    "#Filter a list to include only strings with more than 3 characters: [\"cat\", \"dog\", \"elephant\", \"rat\"]\n",
    "r= [\"cat\", \"dog\", \"elephant\", \"rat\"]\n",
    "a=[i for i in r if len(i)>3]\n",
    "print(a)\n"
   ]
  },
  {
   "cell_type": "code",
   "execution_count": 27,
   "id": "118a1319-8ed1-4004-96f1-4b0973a6869f",
   "metadata": {},
   "outputs": [
    {
     "name": "stdout",
     "output_type": "stream",
     "text": [
      "[2, 3, 5, 7, 11, 13, 17, 19]\n"
     ]
    }
   ],
   "source": [
    "#Create a list of prime numbers between 1 and 20 using a list comprehension.\n",
    "primes = [n for n in range(2, 21) if all(n % i != 0 for i in range(2, int(n**0.5) + 1))]\n",
    "print(primes)\n"
   ]
  },
  {
   "cell_type": "code",
   "execution_count": null,
   "id": "4c0d01e6-e85f-4b3a-91a0-956283266c63",
   "metadata": {},
   "outputs": [],
   "source": [
    "#Convert to Uppercase: Given a list of strings [\"apple\", \"banana\", \"cherry\"], create a new list with all strings in uppercase.\n",
    "k = [\"apple\", \"banana\", \"cherry\"]\n",
    "s = [i.upper() for i in k]\n",
    "print(s)"
   ]
  },
  {
   "cell_type": "code",
   "execution_count": null,
   "id": "f68f6c2f-65bb-47bd-8dae-e9d09bf92753",
   "metadata": {},
   "outputs": [],
   "source": [
    "#Filter by Length: From a list of strings [\"hi\", \"hello\", \"world\", \"Python\"], create a list of words with more than 3 characters.\n",
    "c= [\"hi\", \"hello\", \"world\", \"Python\"]\n",
    "d = [i for i in c if len(i)>3]\n",
    "print(d)\n"
   ]
  },
  {
   "cell_type": "code",
   "execution_count": null,
   "id": "4b3529b5-0409-456d-8e27-9003fc98e9d9",
   "metadata": {},
   "outputs": [],
   "source": [
    "#Flatten a List: Convert a nested list [[1, 2], [3, 4], [5, 6]] into a single flat list.\n",
    "k = [[1, 2], [3, 4], [5, 6]]\n",
    "d= [i for sublist in k for i in sublist]\n",
    "print(d)"
   ]
  },
  {
   "cell_type": "code",
   "execution_count": null,
   "id": "bc13bcfb-5553-4567-9c87-ef273a22e396",
   "metadata": {},
   "outputs": [],
   "source": [
    "#Filter and Transform: Given a list of numbers [1, 5, 8, 12, 15, 18], create a new list containing the squares of even numbers only.\n",
    "a = [1, 5, 8, 12, 15, 18]\n",
    "l = [i**2 for i in a if i%2==0]\n",
    "print(l)"
   ]
  },
  {
   "cell_type": "code",
   "execution_count": null,
   "id": "0a7f3f54-d28c-4fbb-85eb-2a6f38574261",
   "metadata": {},
   "outputs": [],
   "source": [
    "#Reverse Words: Given a list of words [\"hello\", \"world\", \"python\"], create a list of words reversed ([\"olleh\", \"dlrow\", \"nohtyp\"]).\n",
    "s = [\"hello\", \"world\", \"python\"]\n",
    "f= [i[::-1] for i in s]\n",
    "print(f)"
   ]
  },
  {
   "cell_type": "code",
   "execution_count": null,
   "id": "479ec749-2c42-43b4-8853-5b601343a671",
   "metadata": {},
   "outputs": [],
   "source": [
    "#Generate a Dictionary: Create a dictionary comprehension from a list [1, 2, 3, 4], where keys are numbers and values are their cubes.\n",
    "a = [1, 2, 3, 4]\n",
    "c = {i: i**3 for i in a}\n",
    "print (c)"
   ]
  },
  {
   "cell_type": "code",
   "execution_count": null,
   "id": "ea751958-ca32-4d2e-bb2e-2538f528030f",
   "metadata": {},
   "outputs": [],
   "source": [
    "#Filter Palindromes: From a list of strings [\"level\", \"world\", \"radar\", \"python\"], extract only the palindromes.\n",
    "a= [\"level\", \"world\", \"radar\", \"python\"]\n",
    "s=[ i for i in a if i==i[::-1]]\n",
    "print(s)"
   ]
  },
  {
   "cell_type": "code",
   "execution_count": null,
   "id": "c80f4854-9cc8-4de8-8757-f9c8ce42eab5",
   "metadata": {},
   "outputs": [],
   "source": [
    "#Prime Numbers: Write a list comprehension to generate all prime numbers less than 50\n",
    "prime = [i for i in range(2,50)if all(i%d!=0 for d in range(2,int(i**0.50)+1))]\n",
    "print(prime)"
   ]
  },
  {
   "cell_type": "code",
   "execution_count": null,
   "id": "91bba117-6202-4128-8e66-aa7c6c55af3d",
   "metadata": {},
   "outputs": [],
   "source": [
    "##Prime Numbers: Write a list comprehension to generate all prime numbers less than 10\n",
    "p = [i for i in range(1,11)if all(i%d!=0 for d in range (2,int(i**0.50)+1))]\n",
    "print(p)"
   ]
  },
  {
   "cell_type": "code",
   "execution_count": null,
   "id": "85ff8ca8-388b-4bcd-b949-c7dfbd6b9799",
   "metadata": {},
   "outputs": [],
   "source": [
    "##Prime Numbers: Write a list comprehension to generate all prime numbers less than 20\n",
    "\n",
    "s = [i for i in range(1,21)if all (i%d!=0 for d in range(2,int(i**0.50)+1))]\n",
    "print(s)"
   ]
  },
  {
   "cell_type": "code",
   "execution_count": null,
   "id": "6038e6fa-49b9-471c-a7f4-6982c4eabc96",
   "metadata": {},
   "outputs": [],
   "source": [
    "##Prime Numbers: Write a list comprehension to generate all prime numbers less than 25\n",
    "z=[i for i in range(1,26)if all(i%d!=0 for d in range(2,int(i**0.50)+1))]\n",
    "print(z)"
   ]
  },
  {
   "cell_type": "code",
   "execution_count": null,
   "id": "fa7252d4-8f7d-47e0-a4b1-6e4c5babc58c",
   "metadata": {},
   "outputs": [],
   "source": [
    "#Cartesian Product: Generate a Cartesian product of two lists [1, 2, 3] and ['a', 'b', 'c']\n",
    "l1 = [1, 2, 3]\n",
    "l2= ['a', 'b', 'c']\n",
    "c=[(x,y) for x in l1 for y in l2]\n",
    "print(c)"
   ]
  },
  {
   "cell_type": "code",
   "execution_count": null,
   "id": "893ba205-a01d-4ba7-8b0e-87b6410810e3",
   "metadata": {},
   "outputs": [],
   "source": [
    "#Cartesian Product: Generate a Cartesian product of two lists [1, 2, 3, 4] and ['a', 'b', 'c','d']\n",
    "l1 = [1, 2, 3, 4]\n",
    "l2 = ['a', 'b', 'c','d']\n",
    "f= [(x,y) for x in l1 for y in l2]\n",
    "print(f)\n"
   ]
  },
  {
   "cell_type": "code",
   "execution_count": null,
   "id": "a328a963-2f7e-49f2-be11-26da20564203",
   "metadata": {},
   "outputs": [],
   "source": [
    "#Replace Vowels: Given a string s = \"hello world\", create a list of characters where vowels are replaced by '*'.\n",
    "s = \"hello world\"\n",
    "vowels = \"aeiouAEIOU\"\n",
    "x = ['*' if i in vowels else i for i in s]\n",
    "result = ''.join(x)\n",
    "print(result)\n"
   ]
  },
  {
   "cell_type": "code",
   "execution_count": null,
   "id": "43f9de1e-a955-4472-855a-5fe56d24cf35",
   "metadata": {},
   "outputs": [],
   "source": [
    "#Add Constant: Given a list of numbers [1, 2, 3, 4], create a new list where each number is increased by 5\n",
    "k = [1, 2, 3, 4]\n",
    "s = [ i+5 for i in k]\n",
    "print(s)"
   ]
  },
  {
   "cell_type": "code",
   "execution_count": null,
   "id": "e734e295-73e3-45ec-ba9b-02bb77ce0f9f",
   "metadata": {},
   "outputs": [],
   "source": [
    "#Filter Odd Numbers: Create a list of all odd numbers between 1 and 30.\n",
    "odd_num = [i for i in range(1,31) if i%2!=0]\n",
    "print(odd_num)\n"
   ]
  },
  {
   "cell_type": "code",
   "execution_count": null,
   "id": "414a6696-0201-41b6-bf80-6223268a3b9e",
   "metadata": {},
   "outputs": [],
   "source": [
    "#Repeat Characters: Given a string \"abc\", create a list where each character is repeated three times: [\"aaa\", \"bbb\", \"ccc\"]\n",
    "\n",
    "s =\"abc\"\n",
    "l = [i * 3 for i in s]\n",
    "print(l)\n",
    "\n"
   ]
  },
  {
   "cell_type": "code",
   "execution_count": null,
   "id": "1cdd4c26-0222-4aa6-8494-700d7d793597",
   "metadata": {},
   "outputs": [],
   "source": [
    "#Filter Negative Numbers: From a list [-10, 15, -20, 30, 40, -50], extract only the positive numbers.\n",
    "l1 = [-10, 15, -20, 30, 40, -50]\n",
    "m = [i for i in l1 if i>0]\n",
    "print(m)"
   ]
  },
  {
   "cell_type": "code",
   "execution_count": null,
   "id": "cc5aedf9-a6ff-4b66-b2d4-d4675e8b658b",
   "metadata": {},
   "outputs": [],
   "source": [
    "##Celsius to Fahrenheit: Given a list of temperatures in Celsius [0, 10, 20, 30], convert them to Fahrenheit \n",
    "C = [0, 10, 20, 30]\n",
    "F=[(i*9/5)+32 for i in C]\n",
    "print(F)"
   ]
  },
  {
   "cell_type": "code",
   "execution_count": null,
   "id": "63f5f998-a13b-4973-b455-b55d1b33c9c0",
   "metadata": {},
   "outputs": [],
   "source": [
    "####Common Elements: From two lists list1 = [1, 2, 3, 4] and list2 = [3, 4, 5, 6], create a list of common elements.\n",
    "list1 = [1, 2, 3, 4] \n",
    "list2 = [3, 4, 5, 6]\n",
    "l3 = [i for i in list1 if i in list2]\n",
    "print(l3)\n",
    "    "
   ]
  },
  {
   "cell_type": "code",
   "execution_count": null,
   "id": "9e2953a0-8570-4816-ad80-5b53d13b4fbc",
   "metadata": {},
   "outputs": [],
   "source": [
    "#Remove Duplicates: From a list [1, 2, 2, 3, 4, 4, 5], create a new list without duplicates (use list comprehension with set)\n",
    "list1 = [1, 2, 2, 3, 4, 4, 5]\n",
    "l = [set(i for i in list1)]\n",
    "print(l)\n",
    "\n"
   ]
  },
  {
   "cell_type": "code",
   "execution_count": null,
   "id": "acdc805c-cb00-489c-a93d-28a77f703ad9",
   "metadata": {},
   "outputs": [],
   "source": [
    "#Filter Divisible Numbers: From a list [10, 20, 33, 45, 50, 66], extract numbers divisible by both 5 and 3.\n",
    "list1 = [10, 20, 33, 45, 50, 66]\n",
    "k = [i for i in list1 if i%3==0 and i%5==0]\n",
    "print(k)\n"
   ]
  },
  {
   "cell_type": "code",
   "execution_count": null,
   "id": "e278f99c-e067-4a66-8b72-8d37cbee93d8",
   "metadata": {},
   "outputs": [],
   "source": [
    "#Alternate Elements: From a list [1, 2, 3, 4, 5, 6], create a list of alternate elements: [1, 3, 5].\n",
    "\n",
    "lst1 = [1, 2, 3, 4, 5, 6]\n",
    "l= lst1[::2]\n",
    "print(l)"
   ]
  },
  {
   "cell_type": "code",
   "execution_count": null,
   "id": "d3b6597c-2039-4b45-8e45-528d50058fbc",
   "metadata": {},
   "outputs": [],
   "source": [
    "#Find Factors: For a number n = 12, create a list of all factors of n using a list comprehension.\n",
    "n = 12\n",
    "f = [i for i in range(1,n+1) if n%i==0]\n",
    "print(f)\n"
   ]
  },
  {
   "cell_type": "code",
   "execution_count": null,
   "id": "1d3efe52-5e7f-4e5b-a403-3aa77e8b5f4c",
   "metadata": {},
   "outputs": [],
   "source": [
    "n=14\n",
    "w = [i for i in range(1,n+1) if n%i==0]\n",
    "print(w)"
   ]
  },
  {
   "cell_type": "code",
   "execution_count": null,
   "id": "435f5f3a-d90e-406a-b26b-0dd130fe40f2",
   "metadata": {},
   "outputs": [],
   "source": [
    "n=16\n",
    "q=[i for i in range(1,n+1) if n%i==0]\n",
    "print(q)"
   ]
  },
  {
   "cell_type": "code",
   "execution_count": null,
   "id": "cff17695-d2bd-41f2-ae9e-127686783459",
   "metadata": {},
   "outputs": [],
   "source": [
    "n=18\n",
    "a=[i for i in range(1,n+1) if n%i==0]\n",
    "print(a)"
   ]
  },
  {
   "cell_type": "code",
   "execution_count": null,
   "id": "a4d17a8d-b083-44bf-ac08-7ea7869afc55",
   "metadata": {},
   "outputs": [],
   "source": [
    "#Flatten Nested Lists with Depth: For a nested list [[1, 2], [3, [4, 5]]], flatten it to one level: [1, 2, 3, [4, 5]]\n",
    "lst = [[1, 2], [3, [4, 5]]]\n",
    "s = [i for sublist in lst for i in sublist]\n",
    "print(s)"
   ]
  },
  {
   "cell_type": "code",
   "execution_count": null,
   "id": "831fbdb3-93c8-41c5-88d1-b562d7a587ee",
   "metadata": {},
   "outputs": [],
   "source": [
    "#Conditional Transformation: From a list of numbers [1, -2, 3, -4], replace negative numbers with their absolute values.\n",
    "lst = [1, -2, 3, -4]\n",
    "k = [abs(i) if i<0 else i for i in lst]\n",
    "print(k)\n"
   ]
  },
  {
   "cell_type": "code",
   "execution_count": 32,
   "id": "f98a95a6-c2c6-4ac3-9793-37412c1fb934",
   "metadata": {},
   "outputs": [
    {
     "name": "stdout",
     "output_type": "stream",
     "text": [
      "[1, 2, 3, 4, 5, 7, 6, 8, 9]\n"
     ]
    }
   ],
   "source": [
    "l1 = [1,2,3,4,5]\n",
    "l2 = [7,6,8,9]\n",
    "l3 = l1 +l2\n",
    "print(l3)"
   ]
  },
  {
   "cell_type": "code",
   "execution_count": null,
   "id": "b9cbf201-eb29-477a-8958-116d06839629",
   "metadata": {},
   "outputs": [],
   "source": []
  },
  {
   "cell_type": "code",
   "execution_count": null,
   "id": "00ff5ee7-7cf3-4675-bbb9-5ff4543051c8",
   "metadata": {},
   "outputs": [],
   "source": []
  }
 ],
 "metadata": {
  "kernelspec": {
   "display_name": "Python 3 (ipykernel)",
   "language": "python",
   "name": "python3"
  },
  "language_info": {
   "codemirror_mode": {
    "name": "ipython",
    "version": 3
   },
   "file_extension": ".py",
   "mimetype": "text/x-python",
   "name": "python",
   "nbconvert_exporter": "python",
   "pygments_lexer": "ipython3",
   "version": "3.12.7"
  }
 },
 "nbformat": 4,
 "nbformat_minor": 5
}
