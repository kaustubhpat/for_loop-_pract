{
 "cells": [
  {
   "cell_type": "code",
   "execution_count": 1,
   "id": "7be6f94c-68d2-4310-aa74-ac121868eff1",
   "metadata": {},
   "outputs": [
    {
     "name": "stdout",
     "output_type": "stream",
     "text": [
      "hello\n",
      "hello\n",
      "hello\n",
      "hello\n",
      "hello\n"
     ]
    }
   ],
   "source": [
    "counter =1\n",
    "while counter <=5:\n",
    "    print(\"hello\")\n",
    "    counter +=1"
   ]
  },
  {
   "cell_type": "code",
   "execution_count": 2,
   "id": "ef086a34-f975-4aed-a05a-d206d0ba5b1e",
   "metadata": {},
   "outputs": [
    {
     "name": "stdout",
     "output_type": "stream",
     "text": [
      "1\n",
      "2\n",
      "3\n",
      "4\n",
      "5\n"
     ]
    }
   ],
   "source": [
    "num = 1\n",
    "while True:\n",
    "    if num > 5:\n",
    "        break\n",
    "    print(f\"{num}\")\n",
    "    num +=1"
   ]
  },
  {
   "cell_type": "code",
   "execution_count": 3,
   "id": "796769be-d63f-49ff-8b58-92e0ccf66031",
   "metadata": {},
   "outputs": [
    {
     "name": "stdout",
     "output_type": "stream",
     "text": [
      "1\n",
      "2\n",
      "4\n",
      "5\n"
     ]
    }
   ],
   "source": [
    "num = 0\n",
    "while num<5:\n",
    "    num +=1\n",
    "    \n",
    "    if num == 3:\n",
    "        continue\n",
    "    print(f\"{num}\")"
   ]
  },
  {
   "cell_type": "code",
   "execution_count": 4,
   "id": "6425c790-6940-4830-99fe-40b3d01ed37f",
   "metadata": {},
   "outputs": [
    {
     "name": "stdin",
     "output_type": "stream",
     "text": [
      "type something (or 'quit' to exit):  hi how are you?\n"
     ]
    },
    {
     "name": "stdout",
     "output_type": "stream",
     "text": [
      "You typed: hi how are you?\n"
     ]
    },
    {
     "name": "stdin",
     "output_type": "stream",
     "text": [
      "type something (or 'quit' to exit):  quit\n"
     ]
    },
    {
     "name": "stdout",
     "output_type": "stream",
     "text": [
      "good by\n"
     ]
    }
   ],
   "source": [
    "#Write a program that keeps asking the user to type something, and it prints back what they typed. If the user types \"quit\", the program stops.\n",
    "\n",
    "while True:\n",
    "    user_input = input(\"type something (or 'quit' to exit): \")\n",
    "    if user_input.lower()=='quit':\n",
    "        print(\"good by\")\n",
    "        break\n",
    "    else:\n",
    "        print(f\"You typed: {user_input}\")\n",
    "    "
   ]
  },
  {
   "cell_type": "code",
   "execution_count": 9,
   "id": "c12c5324-e9f1-4078-a99b-303af3ad73fb",
   "metadata": {},
   "outputs": [
    {
     "name": "stdin",
     "output_type": "stream",
     "text": [
      "guess the number 8\n"
     ]
    },
    {
     "name": "stdout",
     "output_type": "stream",
     "text": [
      "num is to high\n"
     ]
    },
    {
     "name": "stdin",
     "output_type": "stream",
     "text": [
      "guess the number 9\n"
     ]
    },
    {
     "name": "stdout",
     "output_type": "stream",
     "text": [
      "num is to high\n"
     ]
    },
    {
     "name": "stdin",
     "output_type": "stream",
     "text": [
      "guess the number 0\n"
     ]
    },
    {
     "name": "stdout",
     "output_type": "stream",
     "text": [
      "num is to low\n"
     ]
    },
    {
     "name": "stdin",
     "output_type": "stream",
     "text": [
      "guess the number 3\n"
     ]
    },
    {
     "name": "stdout",
     "output_type": "stream",
     "text": [
      "num is to low\n"
     ]
    },
    {
     "name": "stdin",
     "output_type": "stream",
     "text": [
      "guess the number 5\n"
     ]
    },
    {
     "name": "stdout",
     "output_type": "stream",
     "text": [
      "num is to low\n"
     ]
    },
    {
     "name": "stdin",
     "output_type": "stream",
     "text": [
      "guess the number 6\n"
     ]
    },
    {
     "name": "stdout",
     "output_type": "stream",
     "text": [
      "num is to low\n"
     ]
    },
    {
     "name": "stdin",
     "output_type": "stream",
     "text": [
      "guess the number 7\n"
     ]
    },
    {
     "name": "stdout",
     "output_type": "stream",
     "text": [
      "correct guess\n"
     ]
    }
   ],
   "source": [
    "#Write a program that picks a random number between 1 and 10. The user has to guess the number. Keep asking until they get it right, and let them know if their guess is too high or too low.\n",
    "import random\n",
    "num_to_guess = random.randint(1,10)\n",
    "\n",
    "while True:\n",
    "    guess = int(input(\"guess the number\"))\n",
    "    if guess == num_to_guess:\n",
    "        print(\"correct guess\")\n",
    "        break\n",
    "        \n",
    "    elif guess>num_to_guess:\n",
    "        print(\"num is to high\")\n",
    "    else:\n",
    "        print(\"num is to low\")\n",
    "        "
   ]
  },
  {
   "cell_type": "code",
   "execution_count": 11,
   "id": "e563adff-0163-457f-80e8-41422a8c36ed",
   "metadata": {},
   "outputs": [
    {
     "name": "stdin",
     "output_type": "stream",
     "text": [
      "enter your passward ll\n"
     ]
    },
    {
     "name": "stdout",
     "output_type": "stream",
     "text": [
      "enter passward agin: \n"
     ]
    },
    {
     "name": "stdin",
     "output_type": "stream",
     "text": [
      "enter your passward python123\n"
     ]
    },
    {
     "name": "stdout",
     "output_type": "stream",
     "text": [
      "access granted\n"
     ]
    }
   ],
   "source": [
    "#Ask the user for a password. Keep asking until they enter the correct password \"python123\"\n",
    "while True:\n",
    "    psw = str(input(\"enter your passward\"))\n",
    "    if psw == \"python123\":\n",
    "        print(\"access granted\")\n",
    "        break\n",
    "    else:\n",
    "        print(\"enter passward agin: \")"
   ]
  },
  {
   "cell_type": "code",
   "execution_count": 16,
   "id": "2da1663f-58ab-49f3-a516-3d537cf4ac11",
   "metadata": {},
   "outputs": [
    {
     "name": "stdin",
     "output_type": "stream",
     "text": [
      "enter your number (or 'stop' to finish) 2\n",
      "enter your number (or 'stop' to finish) 2\n",
      "enter your number (or 'stop' to finish) 3\n",
      "enter your number (or 'stop' to finish) 4\n",
      "enter your number (or 'stop' to finish) 5\n",
      "enter your number (or 'stop' to finish) 6\n",
      "enter your number (or 'stop' to finish) 6\n",
      "enter your number (or 'stop' to finish) 5\n",
      "enter your number (or 'stop' to finish) 4\n",
      "enter your number (or 'stop' to finish) 4\n",
      "enter your number (or 'stop' to finish) 4\n",
      "enter your number (or 'stop' to finish) 4\n",
      "enter your number (or 'stop' to finish) 4\n",
      "enter your number (or 'stop' to finish) 55\n",
      "enter your number (or 'stop' to finish) 5\n",
      "enter your number (or 'stop' to finish) stop\n"
     ]
    },
    {
     "name": "stdout",
     "output_type": "stream",
     "text": [
      "113\n"
     ]
    }
   ],
   "source": [
    "#Write a program that keeps asking the user for numbers. Add them to a total and stop when the user types \"stop\". Finally, display the total.\n",
    "total = 0\n",
    "\n",
    "while True:\n",
    "    u_i = input(\"enter your number (or 'stop' to finish)\")\n",
    "    if u_i.lower()== 'stop':\n",
    "        break\n",
    "    else:\n",
    "        try:\n",
    "            total +=int(u_i)\n",
    "        except ValueError:\n",
    "            print(\"Please enter a valid number.\")\n",
    "            \n",
    "print(total)"
   ]
  },
  {
   "cell_type": "code",
   "execution_count": 22,
   "id": "37773e96-9767-4f6c-afc8-7ade4eb9b6d5",
   "metadata": {},
   "outputs": [
    {
     "name": "stdout",
     "output_type": "stream",
     "text": [
      "2\n",
      "4\n",
      "6\n",
      "8\n",
      "10\n",
      "12\n",
      "14\n",
      "16\n",
      "18\n",
      "20\n"
     ]
    }
   ],
   "source": [
    "#Write a program that prints even numbers between 1 and 20 using a while loop\n",
    "num = 2\n",
    "while num <= 20:\n",
    "    print(num)\n",
    "    num += 2"
   ]
  },
  {
   "cell_type": "code",
   "execution_count": 23,
   "id": "01e9125f-909f-465b-8fc7-dc52a994f7ec",
   "metadata": {},
   "outputs": [
    {
     "name": "stdout",
     "output_type": "stream",
     "text": [
      "1\n",
      "3\n",
      "5\n",
      "7\n",
      "9\n",
      "11\n",
      "13\n",
      "15\n",
      "17\n",
      "19\n"
     ]
    }
   ],
   "source": [
    "#Write a program that prints odd numbers between 1 and 20 using a while loop\n",
    "num = 1\n",
    "while num <= 20:\n",
    "    print(num)\n",
    "    num += 2"
   ]
  },
  {
   "cell_type": "code",
   "execution_count": 31,
   "id": "9928fbb5-ffc0-423d-b025-ea1e08d26f6c",
   "metadata": {},
   "outputs": [
    {
     "name": "stdin",
     "output_type": "stream",
     "text": [
      "enter the number to start countdown :  11\n"
     ]
    },
    {
     "name": "stdout",
     "output_type": "stream",
     "text": [
      "11\n",
      "10\n",
      "9\n",
      "8\n",
      "7\n",
      "6\n",
      "5\n",
      "4\n",
      "3\n",
      "2\n",
      "1\n",
      "0\n"
     ]
    }
   ],
   "source": [
    "#Ask the user for a number, and then count down to 0.\n",
    "\n",
    "count = int(input(\"enter the number to start countdown : \"))\n",
    "\n",
    "while count>=1:\n",
    "    print(count)\n",
    "    count -=1\n",
    "print(count)"
   ]
  },
  {
   "cell_type": "code",
   "execution_count": null,
   "id": "8bb4f7a7-1bb9-4657-a98b-a3ce78bce3ab",
   "metadata": {},
   "outputs": [],
   "source": []
  },
  {
   "cell_type": "code",
   "execution_count": null,
   "id": "d66f38f5-5d62-474a-966f-9e5084696480",
   "metadata": {},
   "outputs": [],
   "source": []
  },
  {
   "cell_type": "code",
   "execution_count": null,
   "id": "5131ec5a-f661-46f3-a1b1-c0fc97d96692",
   "metadata": {},
   "outputs": [],
   "source": []
  },
  {
   "cell_type": "code",
   "execution_count": null,
   "id": "bd36c0c0-8ad4-4251-9fb1-5cb7545a3017",
   "metadata": {},
   "outputs": [],
   "source": []
  },
  {
   "cell_type": "code",
   "execution_count": null,
   "id": "f6a34568-063c-418f-bb0f-ba0e1a45e91e",
   "metadata": {},
   "outputs": [],
   "source": []
  },
  {
   "cell_type": "code",
   "execution_count": null,
   "id": "2a2ae360-1c86-4b1f-9c55-2c966a8a3be9",
   "metadata": {},
   "outputs": [],
   "source": []
  },
  {
   "cell_type": "code",
   "execution_count": null,
   "id": "57a74006-979b-4e9a-8d0a-9602cb829f34",
   "metadata": {},
   "outputs": [],
   "source": []
  },
  {
   "cell_type": "code",
   "execution_count": null,
   "id": "2d3b11a9-62cd-4539-9285-aff01b872157",
   "metadata": {},
   "outputs": [],
   "source": []
  },
  {
   "cell_type": "code",
   "execution_count": null,
   "id": "3fcbfc02-5ae1-41bb-b26a-4e2649f8211b",
   "metadata": {},
   "outputs": [],
   "source": []
  },
  {
   "cell_type": "code",
   "execution_count": null,
   "id": "e1f77569-9aaf-404e-a544-fb4b84999e15",
   "metadata": {},
   "outputs": [],
   "source": []
  },
  {
   "cell_type": "code",
   "execution_count": null,
   "id": "3085d1df-c20e-46c1-9670-11a3f12f3056",
   "metadata": {},
   "outputs": [],
   "source": []
  },
  {
   "cell_type": "code",
   "execution_count": null,
   "id": "601a25d0-06dc-4327-b6be-07285148f727",
   "metadata": {},
   "outputs": [],
   "source": []
  }
 ],
 "metadata": {
  "kernelspec": {
   "display_name": "Python 3 (ipykernel)",
   "language": "python",
   "name": "python3"
  },
  "language_info": {
   "codemirror_mode": {
    "name": "ipython",
    "version": 3
   },
   "file_extension": ".py",
   "mimetype": "text/x-python",
   "name": "python",
   "nbconvert_exporter": "python",
   "pygments_lexer": "ipython3",
   "version": "3.12.7"
  }
 },
 "nbformat": 4,
 "nbformat_minor": 5
}
