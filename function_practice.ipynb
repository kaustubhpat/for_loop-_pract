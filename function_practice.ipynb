{
 "cells": [
  {
   "cell_type": "code",
   "execution_count": 28,
   "id": "9125e1b5-d19a-4f06-8d8e-109d91146dec",
   "metadata": {},
   "outputs": [
    {
     "name": "stdout",
     "output_type": "stream",
     "text": [
      "olleh\n"
     ]
    }
   ],
   "source": [
    "########Write a Python program to reverse a given string.\n",
    "############Example: Input: \"hello\", Output: \"olleh\"\n",
    "k= \"hello\"\n",
    "print(k[::-1])\n",
    "\n"
   ]
  },
  {
   "cell_type": "code",
   "execution_count": 29,
   "id": "5ffa6aff-8d1f-4e46-80d8-6f9a1854901f",
   "metadata": {},
   "outputs": [
    {
     "name": "stdout",
     "output_type": "stream",
     "text": [
      "True\n"
     ]
    }
   ],
   "source": [
    "#####Check if a given string is a palindrome.\n",
    "#Example: Input: \"madam\", Output: True\n",
    "\n",
    "ip = \"madam\"\n",
    "kp = (ip[::-1])\n",
    "if ip == kp:\n",
    "    print(True)\n",
    "else:\n",
    "    print(False)"
   ]
  },
  {
   "cell_type": "code",
   "execution_count": 30,
   "id": "7c80599f-65f4-4654-8286-5fd1079d254b",
   "metadata": {},
   "outputs": [
    {
     "name": "stdout",
     "output_type": "stream",
     "text": [
      "3\n"
     ]
    }
   ],
   "source": [
    "#Count the number of vowels in a string.\n",
    "#Example: Input: \"hello world\", Output: 3\n",
    "\n",
    "k = \"hello world\"\n",
    "v=\"aeiouAEIOU\"\n",
    "count = 0\n",
    "for char in k:\n",
    "    if char in v:\n",
    "        count += 1\n",
    "    \n",
    "print(count)"
   ]
  },
  {
   "cell_type": "code",
   "execution_count": 31,
   "id": "9ed7552b-d12f-4683-81e4-a90beeb1b9a2",
   "metadata": {},
   "outputs": [
    {
     "name": "stdout",
     "output_type": "stream",
     "text": [
      "python_programming\n"
     ]
    }
   ],
   "source": [
    "##Replace all spaces in a string with underscores (_).\n",
    "##Example: Input: \"python programming\", Output: \"python_programming\"\n",
    "string1 = \"python programming\"\n",
    "d = string1.replace(\" \",\"_\")\n",
    "print(d)"
   ]
  },
  {
   "cell_type": "code",
   "execution_count": 32,
   "id": "b303365b-6c09-4cb8-afee-a43584c4081f",
   "metadata": {},
   "outputs": [
    {
     "name": "stdout",
     "output_type": "stream",
     "text": [
      "PYTHON PROGRAMMING\n"
     ]
    }
   ],
   "source": [
    "##Convert a given string to uppercase without using the built-in .upper() method.\n",
    "string1 = \"python programming\"\n",
    "sc = string1.upper()\n",
    "print(sc)"
   ]
  },
  {
   "cell_type": "code",
   "execution_count": 33,
   "id": "3fec387b-e3e5-45f2-9a69-b74592c310d0",
   "metadata": {},
   "outputs": [
    {
     "name": "stdout",
     "output_type": "stream",
     "text": [
      "w\n"
     ]
    }
   ],
   "source": [
    "##Write a program to find the first non-repeating character in a string.\n",
    "##Example: Input: \"swiss\", Output: \"w\"\n",
    "\n",
    "sc1 = \"swiss\"\n",
    "for char in sc1:\n",
    "    if sc1.count(char)==1:\n",
    "        print(char)\n",
    "        break\n",
    "        "
   ]
  },
  {
   "cell_type": "code",
   "execution_count": 34,
   "id": "1833a893-c470-45b9-83a9-544e2447af64",
   "metadata": {},
   "outputs": [
    {
     "name": "stdout",
     "output_type": "stream",
     "text": [
      "{'b': 1, 'a': 3, 'n': 2}\n"
     ]
    }
   ],
   "source": [
    "#Count the occurrences of each character in a string.\n",
    "#Example: Input: \"banana\", Output: {'b': 1, 'a': 3, 'n': 2}\n",
    "ip = \"banana\"\n",
    "char_count = {}\n",
    "\n",
    "for char in ip:\n",
    "    if char in char_count:\n",
    "        char_count[char] += 1\n",
    "    else:\n",
    "        char_count[char] = 1 \n",
    "\n",
    "print(char_count)\n",
    "        "
   ]
  },
  {
   "cell_type": "code",
   "execution_count": 35,
   "id": "e2660896-e21b-4c77-9708-c015c3d882fd",
   "metadata": {},
   "outputs": [
    {
     "name": "stdout",
     "output_type": "stream",
     "text": [
      "abcdabcd\n",
      "True\n"
     ]
    }
   ],
   "source": [
    "#Check if one string is a rotation of another string.\n",
    "#Example: Input: (\"abcd\", \"dabc\"), Output: True\n",
    "\n",
    "s1 = \"abcd\"\n",
    "s2 = \"dabc\"\n",
    "\n",
    "com = s1 + s1\n",
    "print(com)\n",
    "if s2 in com:\n",
    "    print(True)\n",
    "else:\n",
    "    print(False)"
   ]
  },
  {
   "cell_type": "code",
   "execution_count": 36,
   "id": "4d5f9830-c0b2-4169-a64b-5e8650323a05",
   "metadata": {},
   "outputs": [
    {
     "name": "stdout",
     "output_type": "stream",
     "text": [
      "['a', 'ab', 'abc', 'b', 'bc', 'c']\n"
     ]
    }
   ],
   "source": [
    "#Find all substrings of a given string.\n",
    "#Example: Input: \"abc\", Output: [\"a\", \"b\", \"c\", \"ab\", \"bc\", \"abc\"]\n",
    "o = \"abc\"\n",
    "s = []\n",
    "for i in range(len(o)):\n",
    "    for j in range(i + 1,len(o)+1):\n",
    "        s.append(o[i:j])\n",
    "print(s)"
   ]
  },
  {
   "cell_type": "code",
   "execution_count": 37,
   "id": "3d79e04d-9528-4587-a230-e36f8dac798a",
   "metadata": {},
   "outputs": [
    {
     "name": "stdout",
     "output_type": "stream",
     "text": [
      "hello world kaustubh\n"
     ]
    }
   ],
   "source": [
    "####### function########\n",
    "def greet(name):\n",
    "    print(\"hello world\",name)\n",
    "greet(\"kaustubh\")\n"
   ]
  },
  {
   "cell_type": "code",
   "execution_count": 38,
   "id": "8d87c6bd-db83-4a98-84bb-e234013ade6e",
   "metadata": {},
   "outputs": [
    {
     "name": "stdout",
     "output_type": "stream",
     "text": [
      "10\n"
     ]
    }
   ],
   "source": [
    "def add (a,b):\n",
    "    return a + b\n",
    "\n",
    "sum = add(4,6)\n",
    "print(sum)"
   ]
  },
  {
   "cell_type": "code",
   "execution_count": 39,
   "id": "a8d4fbca-4ffe-4cc2-9701-ebc6ffcd66a4",
   "metadata": {},
   "outputs": [
    {
     "name": "stdout",
     "output_type": "stream",
     "text": [
      "hello guest\n",
      "hello kaustubh\n"
     ]
    }
   ],
   "source": [
    "def greet(name = \"guest\"):\n",
    "    print(\"hello\",name)\n",
    "\n",
    "greet()\n",
    "greet(\"kaustubh\")\n"
   ]
  },
  {
   "cell_type": "code",
   "execution_count": 40,
   "id": "a153da8f-59ab-4fb0-a3d3-8dc26b7adcaf",
   "metadata": {},
   "outputs": [
    {
     "ename": "TypeError",
     "evalue": "'int' object is not callable",
     "output_type": "error",
     "traceback": [
      "\u001b[1;31m---------------------------------------------------------------------------\u001b[0m",
      "\u001b[1;31mTypeError\u001b[0m                                 Traceback (most recent call last)",
      "Cell \u001b[1;32mIn[40], line 4\u001b[0m\n\u001b[0;32m      1\u001b[0m \u001b[38;5;28;01mdef\u001b[39;00m \u001b[38;5;21msum_all\u001b[39m(\u001b[38;5;241m*\u001b[39mnumbers):\n\u001b[0;32m      2\u001b[0m     \u001b[38;5;28;01mreturn\u001b[39;00m \u001b[38;5;28msum\u001b[39m(numbers)\n\u001b[1;32m----> 4\u001b[0m \u001b[38;5;28mprint\u001b[39m(sum_all(\u001b[38;5;241m1\u001b[39m,\u001b[38;5;241m2\u001b[39m,\u001b[38;5;241m3\u001b[39m,\u001b[38;5;241m4\u001b[39m))\n",
      "Cell \u001b[1;32mIn[40], line 2\u001b[0m, in \u001b[0;36msum_all\u001b[1;34m(*numbers)\u001b[0m\n\u001b[0;32m      1\u001b[0m \u001b[38;5;28;01mdef\u001b[39;00m \u001b[38;5;21msum_all\u001b[39m(\u001b[38;5;241m*\u001b[39mnumbers):\n\u001b[1;32m----> 2\u001b[0m     \u001b[38;5;28;01mreturn\u001b[39;00m \u001b[38;5;28msum\u001b[39m(numbers)\n",
      "\u001b[1;31mTypeError\u001b[0m: 'int' object is not callable"
     ]
    }
   ],
   "source": [
    "def sum_all(*numbers):\n",
    "    return sum(numbers)\n",
    "\n",
    "print(sum_all(1,2,3,4))"
   ]
  },
  {
   "cell_type": "code",
   "execution_count": null,
   "id": "25485bf2-4e96-463b-b4b5-b98711def8fd",
   "metadata": {},
   "outputs": [],
   "source": [
    "def print_info (**info):\n",
    "    for key , value in info.items():\n",
    "        print(f\"{key}:{value}\")\n",
    "\n",
    "\n",
    "print_info(name = \"kaustubh\" , age = 18)"
   ]
  },
  {
   "cell_type": "code",
   "execution_count": null,
   "id": "972bd0b1-4813-4741-bf97-921c081db15d",
   "metadata": {},
   "outputs": [],
   "source": [
    "#1. Write and Call a Simple Function\n",
    "#Write a function called greet that prints \"Hello, World!\" and call it.\n",
    "\n",
    "def greet():\n",
    "    print(\"Hello, World!\")\n",
    "\n",
    "greet()"
   ]
  },
  {
   "cell_type": "code",
   "execution_count": null,
   "id": "4e2b70ad-c073-4751-8522-818449a96b31",
   "metadata": {},
   "outputs": [],
   "source": [
    "#2. Function with Parameters\n",
    "#Write a function called introduce that takes two arguments: name and age, and prints:\n",
    "#\"My name is <name> and I am <age> years old.\"\n",
    "\n",
    "def introduce(name , age):\n",
    "    print(f\"My name is {name} and I am {age} years old.\")\n",
    "\n",
    "introduce(\"kaustubh\",31)"
   ]
  },
  {
   "cell_type": "code",
   "execution_count": null,
   "id": "bc8975bd-b0b5-4f27-8e85-d013c77e3092",
   "metadata": {},
   "outputs": [],
   "source": [
    "#3. Calculate the Sum of Two Numbers\n",
    "#Write a function add_numbers that takes two numbers as arguments and returns their sum.\n",
    "\n",
    "def add_numbers (a ,b):\n",
    "    return (a+b)\n",
    "\n",
    "\n",
    "add_numbers(18,36)\n"
   ]
  },
  {
   "cell_type": "code",
   "execution_count": null,
   "id": "0249548d-ab90-4e0f-8308-6c8355cb69a7",
   "metadata": {},
   "outputs": [],
   "source": [
    "#4. Find the Larger Number\n",
    "#Write a function find_larger that takes two numbers and returns the larger one.\n",
    "def find_larger(a,b):\n",
    "    return max(a,b)\n",
    "\n",
    "find_larger(18,12)\n"
   ]
  },
  {
   "cell_type": "code",
   "execution_count": null,
   "id": "97b10c19-07bf-439a-b038-6f14cbdadba8",
   "metadata": {},
   "outputs": [],
   "source": [
    "##5. Convert Celsius to Fahrenheit\n",
    "##Write a function celsius_to_fahrenheit that takes a temperature in Celsius as input and returns the temperature in Fahrenheit using the formula:\n",
    "\n",
    "def celsius_to_fahrenheit(a):\n",
    "    return (a*(9/5))+32\n",
    "\n",
    "celsius_to_fahrenheit(38)\n"
   ]
  },
  {
   "cell_type": "code",
   "execution_count": null,
   "id": "933d5ad6-d5c8-4ea5-9c84-7619edf2fffb",
   "metadata": {},
   "outputs": [],
   "source": [
    "##6. Check If a Number is Even or Odd\n",
    "##Write a function is_even that takes a number and returns True if the number is even and False if it's odd.\n",
    "\n",
    "def is_even (a):\n",
    "    if a%2 == 0:\n",
    "        print(\"number is even True\")\n",
    "\n",
    "    else:\n",
    "        print(\"number is odd False\")\n",
    "\n",
    "is_even(13)\n",
    "    "
   ]
  },
  {
   "cell_type": "code",
   "execution_count": null,
   "id": "45183960-258f-4ca7-bc8a-a8c790dec87d",
   "metadata": {},
   "outputs": [],
   "source": [
    "#Calculate the Factorial\n",
    "#Write a function factorial that takes a positive integer and returns its factorial.\n",
    "def factorial(k):\n",
    "    d = 1\n",
    "    for i in range(1,k+1):\n",
    "        \n",
    "        d = d*i\n",
    "    return d\n",
    "\n",
    "x = 4\n",
    "result = factorial(x)\n",
    "\n",
    "print(result)\n",
    "\n"
   ]
  },
  {
   "cell_type": "code",
   "execution_count": null,
   "id": "255fe1c4-84a5-4e55-85da-1bb28e7ec5d3",
   "metadata": {},
   "outputs": [],
   "source": [
    "##8. Count the Number of Vowels\n",
    "#Write a function count_vowels that takes a string as input and returns the number of vowels (a, e, i, o, u) in it.\n",
    "\n",
    "def count_vowels (n):\n",
    "    vowels = \"aeiouAEIOU\"\n",
    "    count = 0\n",
    "    for char in n:\n",
    "        if char in vowels:\n",
    "            count += 1\n",
    "    return count\n",
    "l = str(input(\"enter your string\"))\n",
    "k = count_vowels(l)\n",
    "print(k)\n",
    "        "
   ]
  },
  {
   "cell_type": "code",
   "execution_count": null,
   "id": "94a6b5ee-d12a-449e-9140-d260ef3958ff",
   "metadata": {},
   "outputs": [],
   "source": [
    "def count_vowels(n):\n",
    "    vowels = \"aeiouAEIOU\"\n",
    "    count = 0\n",
    "    for char in n:\n",
    "        if char in vowels:\n",
    "            count += 1\n",
    "\n",
    "    return count\n",
    "\n",
    "l = \"kaustubh patel\"\n",
    "r = count_vowels(l)\n",
    "print(r)\n",
    "        "
   ]
  },
  {
   "cell_type": "code",
   "execution_count": null,
   "id": "efc9bd66-cab8-4f2b-88a5-8a73433bd9d4",
   "metadata": {},
   "outputs": [],
   "source": [
    "##9. Reverse a String\n",
    "#Write a function reverse_string that takes a string as input and returns the reversed string.\n",
    "def reverse_string(l):\n",
    "    return (l[::-1])\n",
    "\n",
    "reverse_string(\"kaustubh\")"
   ]
  },
  {
   "cell_type": "code",
   "execution_count": null,
   "id": "37ff0a3a-0dca-4cf0-a883-ece6a5728d1b",
   "metadata": {},
   "outputs": [],
   "source": [
    "###Check If a String is a Palindrome\n",
    "#Write a function is_palindrome that takes a string and returns True if it's a palindrome (same forwards and backwards) and False otherwise.\n",
    "def is_palindrome(k):\n",
    "    if k == k[::-1]:\n",
    "        print(True)\n",
    "\n",
    "    else:\n",
    "         print(False)\n",
    "\n",
    "\n",
    "is_palindrome(\"kaustubh\")     \n"
   ]
  },
  {
   "cell_type": "code",
   "execution_count": null,
   "id": "acf6ff71-a525-4a8c-80c4-bf91f1284512",
   "metadata": {},
   "outputs": [],
   "source": [
    "##11. Print a Multiplication Table\n",
    "#Write a function multiplication_table that takes a number and prints its multiplication table up to 10.\n",
    "\n",
    "def multiplication_table(n):\n",
    "    for i in range(1,11):\n",
    "        print(i*n)\n",
    "multiplication_table(4)\n",
    "                          "
   ]
  },
  {
   "cell_type": "code",
   "execution_count": null,
   "id": "a90ccc5b-01a2-4239-9158-d344981be8c1",
   "metadata": {},
   "outputs": [],
   "source": [
    "#12. Find the Smallest Number in a List\n",
    "#Write a function find_smallest that takes a list of numbers and returns the smallest number.\n",
    "l1 = [1,2,3,4,5,6,7,8]\n",
    "\n",
    "def find_small(l1):\n",
    "    return min(l1)\n",
    "\n",
    "print(find_small(l1))"
   ]
  },
  {
   "cell_type": "code",
   "execution_count": null,
   "id": "60a21a95-0efa-40e0-9780-e9870d49c75b",
   "metadata": {},
   "outputs": [],
   "source": [
    "#Find the Sum of All Numbers in a List\n",
    "#Write a function sum_list that takes a list of numbers and returns the sum of all elements.\n",
    "def sum_list(k):\n",
    "    total = 0\n",
    "    for i in k:\n",
    "        total+=i\n",
    "    return total\n",
    "l = [1,2,3,4]\n",
    "c = sum_list(l)\n",
    "print(c)\n",
    "\n"
   ]
  },
  {
   "cell_type": "code",
   "execution_count": null,
   "id": "c1e9673c-7e10-4849-a645-94d99221e26f",
   "metadata": {},
   "outputs": [],
   "source": [
    "#Count the Occurrences of an Element in a List\n",
    "#Write a function count_occurrences that takes a list and an element, and returns the number of times the element appears in the list.\n",
    "l2 = [\"q\",\"e\",\"r\",\"t\",\"t\",\"e\"]\n",
    "def count_occurrences(k,element):\n",
    "    count = 0\n",
    "    for i in k:\n",
    "        if i == element:\n",
    "            count += 1\n",
    "    return count\n",
    "e_count = \"t\"\n",
    "v = count_occurrences(l2, e_count)\n",
    "print(v)\n",
    "\n"
   ]
  },
  {
   "cell_type": "code",
   "execution_count": null,
   "id": "b6d0a3ff-97b9-41a7-a376-7863aceddd9d",
   "metadata": {},
   "outputs": [],
   "source": [
    "#Create a Simple Calculator\n",
    "# num1 (first number)\n",
    "# num2 (second number)\n",
    "# operation (a string: \"add\", \"subtract\", \"multiply\", \"divide\")\n",
    "# Perform the operation and return the result.\n",
    "\n",
    "def Calculator(num1, num2, operation):\n",
    "    if operation == \"add\":\n",
    "        return num1 + num2\n",
    "    if operation == \"subtract\":\n",
    "        return num1 - num2\n",
    "    if operation == \"multiply\":\n",
    "        return num1 * num2\n",
    "    if operation == \"divide\":\n",
    "        return num1/num2\n",
    "\n",
    "z = Calculator(10,2,\"divide\")\n",
    "print(z)\n",
    "    "
   ]
  },
  {
   "cell_type": "code",
   "execution_count": null,
   "id": "65c7677d-1b6b-4474-825f-eaa02887f6f0",
   "metadata": {},
   "outputs": [],
   "source": [
    "#Write a function is_prime that takes a number as input and returns True if the number is prime, otherwise False.\n",
    "\n",
    "def is_prime(k):\n",
    "    if k<=1:\n",
    "        return False\n",
    "    for i in range (2,k):\n",
    "        if k % i == 0:\n",
    "            return False\n",
    "    return True\n",
    "number = 11\n",
    "print(f\"{number} is a prime number: {is_prime(number)}\")"
   ]
  },
  {
   "cell_type": "code",
   "execution_count": null,
   "id": "47a3a3e9-93c5-40fd-921f-aaacc18f6682",
   "metadata": {},
   "outputs": [],
   "source": [
    "def is_prime(k):\n",
    "    if k<=1:\n",
    "        return False\n",
    "    for i in range(2,k):\n",
    "        if k%i==0:\n",
    "            return False\n",
    "    return True\n",
    "\n",
    "number = 12\n",
    "is_prime(number)"
   ]
  },
  {
   "cell_type": "code",
   "execution_count": null,
   "id": "8c894f28-1f9c-4867-aec7-c9f4eb7220f3",
   "metadata": {},
   "outputs": [],
   "source": [
    "#Write a function power that takes two arguments base and exponent and returns the result of base exponent base exponent\n",
    "\n",
    "def power(base,exponent):\n",
    "    return base**exponent\n",
    "\n",
    "power(2,3)"
   ]
  },
  {
   "cell_type": "code",
   "execution_count": null,
   "id": "18bc746d-0fa1-48a6-988c-de015f76f51d",
   "metadata": {},
   "outputs": [],
   "source": [
    "##Write a function fibonacci that takes a number n and prints the first n numbers in the Fibonacci sequence.\n",
    "def fibonacci(l):\n",
    "    fibonacci_series= []\n",
    "    a , b = 0, 1\n",
    "    for _ in range(n):\n",
    "        fibonacci_series.append(a)\n",
    "        a,b =b, a+b\n",
    "    return fibonacci_series     \n",
    "\n",
    "\n",
    "n=12\n",
    "print(f\"The first {n} numbers in the Fibonacci sequence: {fibonacci(n)}\")\n",
    "    \n"
   ]
  },
  {
   "cell_type": "code",
   "execution_count": null,
   "id": "0f05ed8b-62d4-4ae6-8fb4-2e8e9b103528",
   "metadata": {},
   "outputs": [],
   "source": [
    "#Write a function gcd that takes two numbers as input and returns their greatest common divisor (GCD).\n",
    "def gcd(a,b):\n",
    "    while b !=0:\n",
    "        a,b = b,a%b\n",
    "    return a\n",
    "\n",
    "num1 = 48\n",
    "num2 = 18\n",
    "gcd(num1, num2)\n"
   ]
  },
  {
   "cell_type": "code",
   "execution_count": null,
   "id": "d563a3b3-2522-4517-bb4e-a53a0292dd0a",
   "metadata": {},
   "outputs": [],
   "source": [
    "# Write a function calculate_area that calculates the area of a rectangle. The function should take two arguments: length and width, which represent the dimensions of the rectangle. The function should return the area as a result.\n",
    "# Define the function calculate_area.\n",
    "# Take input for length and width from the user.\n",
    "# Call the function and print the area of the rectangle.\n",
    "# Bonus: Add a condition to validate that both length and width are positive numbers. If either value is not positive, print an error message instead of calculating the area.\n",
    "\n",
    "def calculate_area(length,width):\n",
    "    if length <= 0 or width <= 0:\n",
    "         print(\"Error: Both length and width must be positive numbers.\")\n",
    "         return None \n",
    "        \n",
    "    return length*width\n",
    "\n",
    "length = float(input(\"enter the length\"))\n",
    "width = float(input(\"enter the width\"))\n",
    "\n",
    "calculate_area(length,width)\n"
   ]
  },
  {
   "cell_type": "code",
   "execution_count": null,
   "id": "aa8f1485-5476-499c-808f-120035a97a1c",
   "metadata": {},
   "outputs": [],
   "source": [
    "#Write a function sum_list(lst) that takes a list of numbers and returns the sum of all elements in the list.\n",
    "def sum_list(lst):\n",
    "    return sum(lst)\n",
    "\n",
    "lst= list(map(int,input(\"enter number : \").split()))\n",
    "sum_list(lst)"
   ]
  },
  {
   "cell_type": "code",
   "execution_count": null,
   "id": "81653850-fcc4-4ab2-85cc-53fd94684860",
   "metadata": {},
   "outputs": [],
   "source": [
    "#Write a function find_max(lst) that takes a list of numbers and returns the largest number.\n",
    "def find_max(lst):\n",
    "    return max(lst)\n",
    "\n",
    "lst=list(map(int,input(\"enter the lsit : \").split()))\n",
    "find_max(lst)"
   ]
  },
  {
   "cell_type": "code",
   "execution_count": null,
   "id": "46d2db16-b9a1-4468-a9ac-ad9245892d66",
   "metadata": {},
   "outputs": [],
   "source": [
    "#Write a function find_min(lst) that takes a list of numbers and returns the smallest number.\n",
    "def find_min(lst):\n",
    "    return min(lst)\n",
    "\n",
    "lst = list(map(int,input(\"enter the list : \").split()))\n",
    "find_min(lst)"
   ]
  },
  {
   "cell_type": "code",
   "execution_count": null,
   "id": "bd7bc155-2aea-44eb-b69f-8d5020ad96b3",
   "metadata": {},
   "outputs": [],
   "source": [
    "###Write a function calculate_average(lst) that takes a list of numbers and returns their average.\n",
    "\n",
    "def calculate_average(lst):\n",
    "    return (sum(lst))/len(lst)\n",
    "\n",
    "lst = list(map(int,input(\"    \").split()))\n",
    "calculate_average(lst)"
   ]
  },
  {
   "cell_type": "code",
   "execution_count": 42,
   "id": "8f4874a2-6b0b-4f17-9546-35a318e0cfd5",
   "metadata": {},
   "outputs": [
    {
     "name": "stdin",
     "output_type": "stream",
     "text": [
      "  11 22 22 2 222 22 22 2222 22\n",
      "enter value 22\n"
     ]
    },
    {
     "name": "stdout",
     "output_type": "stream",
     "text": [
      "5\n"
     ]
    }
   ],
   "source": [
    "#Write a function count_occurrences(lst, value) that takes a list and a value and returns the number of times the value appears in the list\n",
    "def count_occurrences(lst, value):\n",
    "    return lst.count(value)\n",
    "\n",
    "lst = list(map(int , input(\" \").split()))\n",
    "value = int(input(\"enter value\"))\n",
    "\n",
    "z = count_occurrences(lst, value)\n",
    "print(z)\n"
   ]
  },
  {
   "cell_type": "code",
   "execution_count": 52,
   "id": "d6b57ba2-14bc-40c4-bb50-8c5254a068d4",
   "metadata": {},
   "outputs": [
    {
     "name": "stdin",
     "output_type": "stream",
     "text": [
      "  1 2 3 4 5 6\n"
     ]
    },
    {
     "name": "stdout",
     "output_type": "stream",
     "text": [
      "[2, 4, 6]\n"
     ]
    }
   ],
   "source": [
    "#Write a function filter_even(lst) that takes a list of numbers and returns a new list containing only the even numbers.\n",
    "\n",
    "def filter_even(lst):\n",
    "    k=[]\n",
    "    for i in lst:\n",
    "        if i%2 == 0:\n",
    "            k.append(i)\n",
    "\n",
    "    return k\n",
    "        \n",
    "    \n",
    "lst = list(map(int,input(\" \").split()))\n",
    "#print(f\"input list :{lst}\")\n",
    "d =filter_even(lst)\n",
    "print(d)"
   ]
  },
  {
   "cell_type": "code",
   "execution_count": 59,
   "id": "1d16fc52-a154-430d-954e-0f365593d706",
   "metadata": {},
   "outputs": [
    {
     "name": "stdin",
     "output_type": "stream",
     "text": [
      "  1 2 3 4\n",
      "  5 6 7 8\n"
     ]
    },
    {
     "name": "stdout",
     "output_type": "stream",
     "text": [
      "[(2, 6), (4, 8)]\n"
     ]
    }
   ],
   "source": [
    "def filter_even(lst1 , lst2):\n",
    "    k = []\n",
    "    for i,j in zip(lst1,lst2):\n",
    "        if i%2==0 and j%2==0:\n",
    "            \n",
    "            k.append((i,j))\n",
    "\n",
    "    return k\n",
    "\n",
    "lst1 = list(map(int,input(\" \").split()))\n",
    "lst2 = list(map(int,input(\" \").split()))\n",
    "d=filter_even(lst1 , lst2)\n",
    "print(d)"
   ]
  },
  {
   "cell_type": "code",
   "execution_count": 61,
   "id": "02cf054f-e290-4898-8480-cd20172ebd3c",
   "metadata": {},
   "outputs": [
    {
     "name": "stdin",
     "output_type": "stream",
     "text": [
      "  1 2 3 4\n",
      "  5 6 7 8\n"
     ]
    },
    {
     "name": "stdout",
     "output_type": "stream",
     "text": [
      "([2, 4], [5, 7])\n"
     ]
    }
   ],
   "source": [
    "def filter_even(lst1 , lst2):\n",
    "    return [i for i in lst1 if i%2==0 ],[j for j in lst2 if j%2!=0]\n",
    "lst1 = list(map(int,input(\" \").split()))\n",
    "lst2 = list(map(int,input(\" \").split()))\n",
    "d=filter_even(lst1 , lst2)\n",
    "print(d)"
   ]
  },
  {
   "cell_type": "code",
   "execution_count": 62,
   "id": "a6b835f0-9c5e-48ac-8627-b13eddf98c58",
   "metadata": {},
   "outputs": [
    {
     "name": "stdin",
     "output_type": "stream",
     "text": [
      "enter your list:  1 2 3 4 5\n"
     ]
    },
    {
     "name": "stdout",
     "output_type": "stream",
     "text": [
      "[5, 4, 3, 2, 1]\n"
     ]
    }
   ],
   "source": [
    "#Write a function reverse_list(lst) that takes a list and returns a new list with the elements in reverse order.\n",
    "def reverse_list(lst):\n",
    "    return (lst[::-1])\n",
    "\n",
    "lst = list(map(int,input(\"enter your list: \").split()))\n",
    "k= reverse_list(lst)\n",
    "print(k)\n",
    "\n",
    "\n"
   ]
  },
  {
   "cell_type": "code",
   "execution_count": 63,
   "id": "0e68bd43-4616-4aae-b1ec-3f602ae56917",
   "metadata": {},
   "outputs": [
    {
     "name": "stdin",
     "output_type": "stream",
     "text": [
      "  1 2 3 4 5\n",
      "  6 7 8 9\n"
     ]
    },
    {
     "name": "stdout",
     "output_type": "stream",
     "text": [
      "([[5, 4, 3, 2, 1]], [[9, 8, 7, 6]])\n"
     ]
    }
   ],
   "source": [
    "#Write a function reverse_list(lst) that takes a  2 list  and returns a new list with the elements in reverse order.\n",
    "def reverse_list(lst1, lst2):\n",
    "    return [(lst1[::-1])],[(lst2[::-1])]\n",
    "\n",
    "lst1 = list(map(int,input(\" \").split()))\n",
    "lst2 = list(map(int,input(\" \").split()))\n",
    "d=reverse_list(lst1 , lst2)\n",
    "print(d)\n"
   ]
  },
  {
   "cell_type": "code",
   "execution_count": 66,
   "id": "5f4663d7-4492-4468-a5e6-1b8895675eb9",
   "metadata": {},
   "outputs": [
    {
     "name": "stdin",
     "output_type": "stream",
     "text": [
      "  1 2 3 4 5\n"
     ]
    },
    {
     "name": "stdout",
     "output_type": "stream",
     "text": [
      "True\n",
      "[1, 2, 3, 4, 5]\n"
     ]
    }
   ],
   "source": [
    "#Write a function has_duplicates(lst) that takes a list and returns True if there are duplicate elements, otherwise False.\n",
    "def has_duplicates(lst):\n",
    "    for i in lst:\n",
    "        if i==i:\n",
    "            print(True)\n",
    "        return lst\n",
    "\n",
    "lst= list(map(int,input(\" \").split()))\n",
    "d= has_duplicates(lst)\n",
    "print(d)\n",
    "\n"
   ]
  },
  {
   "cell_type": "code",
   "execution_count": 68,
   "id": "75e90349-69e1-465b-99e0-b1c23b721a71",
   "metadata": {},
   "outputs": [
    {
     "name": "stdin",
     "output_type": "stream",
     "text": [
      "  1 2 3 4 4\n",
      "  1 23 4 56 7\n"
     ]
    },
    {
     "name": "stdout",
     "output_type": "stream",
     "text": [
      "True\n",
      "([1, 2, 3, 4, 4], [1, 23, 4, 56, 7])\n"
     ]
    }
   ],
   "source": [
    "def has_duplicates(lst1 , lst2):\n",
    "    for i,j in zip(lst1,lst2):\n",
    "        if i==i and j==j:\n",
    "            print(True)\n",
    "        return (lst1,lst2)\n",
    "\n",
    "lst1= list(map(int,input(\" \").split()))\n",
    "lst2= list(map(int,input(\" \").split()))\n",
    "\n",
    "d= has_duplicates(lst1,lst2)\n",
    "print(d)\n",
    "\n"
   ]
  },
  {
   "cell_type": "code",
   "execution_count": 72,
   "id": "60916a3c-1102-4972-b496-48fa1b8cc57e",
   "metadata": {},
   "outputs": [
    {
     "name": "stdin",
     "output_type": "stream",
     "text": [
      "enter your list 33 1 23 5 56 66 677 \n"
     ]
    },
    {
     "name": "stdout",
     "output_type": "stream",
     "text": [
      "[1, 5, 23, 33, 56, 66, 677]\n"
     ]
    }
   ],
   "source": [
    "#Write a function sort_list(lst) that takes a list and returns a new list with the elements sorted in ascending order.\n",
    "\n",
    "def sort_list(lst):\n",
    "    return sorted(lst)\n",
    "\n",
    "lst = list(map(int,input(\"enter your list\").split()))\n",
    "d=sort_list(lst)\n",
    "print(d)"
   ]
  },
  {
   "cell_type": "code",
   "execution_count": 3,
   "id": "593e06f8-a512-4289-a2cc-ddd4f59c1123",
   "metadata": {},
   "outputs": [
    {
     "name": "stdin",
     "output_type": "stream",
     "text": [
      "enter your list:  11 22 33 44 55 66\n",
      "enter your value:  55\n"
     ]
    },
    {
     "name": "stdout",
     "output_type": "stream",
     "text": [
      "4\n"
     ]
    }
   ],
   "source": [
    "#Write a function find_index(lst, value) that takes a list and a value and returns the index of the value in the list. If the value is not found, return -1\n",
    "\n",
    "def find_index(lst, value):\n",
    "    try:\n",
    "        return lst.index(value)\n",
    "    except ValueError:\n",
    "        return -1\n",
    "lst = list(map(int,input(\"enter your list: \").split()))\n",
    "value = int(input(\"enter your value: \"))\n",
    "d=find_index(lst,value)\n",
    "print(d)\n"
   ]
  },
  {
   "cell_type": "code",
   "execution_count": 7,
   "id": "327b420a-cded-4914-b95b-bfe39bdea348",
   "metadata": {},
   "outputs": [
    {
     "name": "stdin",
     "output_type": "stream",
     "text": [
      "   1 2 3 4 1 2\n"
     ]
    },
    {
     "name": "stdout",
     "output_type": "stream",
     "text": [
      "[1, 2, 3, 4]\n"
     ]
    }
   ],
   "source": [
    "#Write a function remove_duplicates(lst) that takes a list and returns a new list with duplicate elements removed.\n",
    "\n",
    "def remove_duplicates(lst):\n",
    "    return list(set(lst))\n",
    "\n",
    "lst= list(map(int,input(\"  \").split()))\n",
    "l=remove_duplicates(lst)\n",
    "print(l)\n"
   ]
  },
  {
   "cell_type": "code",
   "execution_count": 9,
   "id": "7b229cc4-2f9b-403e-bda4-4ddaa78b5b6f",
   "metadata": {},
   "outputs": [
    {
     "name": "stdin",
     "output_type": "stream",
     "text": [
      "   10 20 30 40 50\n"
     ]
    },
    {
     "name": "stdout",
     "output_type": "stream",
     "text": [
      "[10, 30, 60, 100, 150]\n"
     ]
    }
   ],
   "source": [
    "#Write a function cumulative_sum(lst) that takes a list of numbers and returns a list where each element is the cumulative sum of the elements before it.\n",
    "def cumulative_sum(lst):\n",
    "    result =[]\n",
    "    total = 0\n",
    "    for i in lst:\n",
    "        total += i\n",
    "        result.append(total)\n",
    "    return result\n",
    "lst= list(map(int,input(\"  \").split()))\n",
    "l=cumulative_sum(lst)\n",
    "print(l)\n"
   ]
  },
  {
   "cell_type": "code",
   "execution_count": 11,
   "id": "3e1cd3be-580c-4dbb-8b67-633cd7d94005",
   "metadata": {},
   "outputs": [
    {
     "name": "stdin",
     "output_type": "stream",
     "text": [
      "   1 2 3 4 5\n",
      "   2\n"
     ]
    },
    {
     "name": "stdout",
     "output_type": "stream",
     "text": [
      "[4, 5, 1, 2, 3]\n"
     ]
    }
   ],
   "source": [
    "#Write a function rotate_list(lst, k) that takes a list and a number k, and returns a new list with the elements rotated k places to the right\n",
    "def rotate_list(lst, k):\n",
    "    k=k%len(lst)\n",
    "    return lst[-k:]+lst[:-k]\n",
    "lst = list(map(int,input(\"  \" ).split()))\n",
    "k = int(input(\"  \"))\n",
    "d= rotate_list(lst, k)\n",
    "print(d)"
   ]
  },
  {
   "cell_type": "code",
   "execution_count": 23,
   "id": "65378b96-0a98-455b-961a-038a207e61eb",
   "metadata": {},
   "outputs": [
    {
     "name": "stdin",
     "output_type": "stream",
     "text": [
      "list1 :  1 2 3 4 5\n",
      "list2 :  2 34 45 5 6\n"
     ]
    },
    {
     "name": "stdout",
     "output_type": "stream",
     "text": [
      "[2, 5]\n"
     ]
    }
   ],
   "source": [
    "#Write a function common_elements(lst1, lst2) that takes two lists and returns a list of elements that are common to both.\n",
    "def common_elements(lst1, lst2):\n",
    "    return list(set(lst1) & set(lst2))\n",
    "lst1 = list(map(int,input(\"list1 : \").split()))\n",
    "lst2 = list(map(int,input(\"list2 : \").split()))\n",
    "l=common_elements(lst1, lst2)\n",
    "print (l)\n",
    "        \n"
   ]
  },
  {
   "cell_type": "code",
   "execution_count": 25,
   "id": "3cf92f11-53cf-4139-ba7e-dab71540a691",
   "metadata": {},
   "outputs": [
    {
     "name": "stdin",
     "output_type": "stream",
     "text": [
      "enter you list: 1 2 3 4 5\n",
      "enter value 5\n"
     ]
    },
    {
     "name": "stdout",
     "output_type": "stream",
     "text": [
      "([1, 2, 3, 4, 5], [])\n"
     ]
    }
   ],
   "source": [
    "##Write a function split_list(lst, n) that takes a list and a number n, and splits the list into two parts: one with the first n elements and the other with the remaining elements.\n",
    "\n",
    "def split_list(lst, n):\n",
    "    f_p= lst[:n]\n",
    "    s_p = lst[n:]\n",
    "    return f_p,s_p\n",
    "\n",
    "lst = list(map(int,input(\"enter you list:\" ).split()))\n",
    "n= int(input(\"enter value\"))\n",
    "p = split_list(lst, n)\n",
    "print(p)"
   ]
  },
  {
   "cell_type": "code",
   "execution_count": 26,
   "id": "feaabefa-57cf-4f8f-ab5b-44cd4dae03c5",
   "metadata": {},
   "outputs": [
    {
     "name": "stdin",
     "output_type": "stream",
     "text": [
      "  1 2 3 4 5 6 7 8 9\n"
     ]
    },
    {
     "name": "stdout",
     "output_type": "stream",
     "text": [
      "[1, 3, 5, 7, 9]\n"
     ]
    }
   ],
   "source": [
    "#Write a function find_odd(lst) that takes a list of numbers and returns a new list containing only the odd numbers.\n",
    "def find_odd(lst):\n",
    "    l=[]\n",
    "    for i in lst:\n",
    "        if i%2 != 0:\n",
    "            l.append(i)\n",
    "    return l\n",
    "\n",
    "lst = list(map(int,input(\" \").split()))\n",
    "k= find_odd(lst)\n",
    "print(k)\n"
   ]
  },
  {
   "cell_type": "code",
   "execution_count": 28,
   "id": "b0258fa7-f953-4940-a587-262f3430e7c9",
   "metadata": {},
   "outputs": [
    {
     "name": "stdin",
     "output_type": "stream",
     "text": [
      "enter you list: 1 2 3 4\n",
      "enter you list: 5 6 7 8\n"
     ]
    },
    {
     "name": "stdout",
     "output_type": "stream",
     "text": [
      "[1, 2, 3, 4, 5, 6, 7, 8]\n"
     ]
    }
   ],
   "source": [
    "###Write a function concatenate_lists(lst1, lst2) that takes two lists and returns a new list that is the concatenation of the two.\n",
    "def concatenate_lists(lst1, lst2):\n",
    "    l=[]\n",
    "    for i, j in zip(lst1, lst2):\n",
    "        l = lst1 + lst2\n",
    "    return l\n",
    "\n",
    "lst1 = list(map(int,input(\"enter you list:\" ).split()))\n",
    "lst2 = list(map(int,input(\"enter you list:\" ).split()))\n",
    "x= concatenate_lists(lst1, lst2)\n",
    "print(x)\n"
   ]
  },
  {
   "cell_type": "code",
   "execution_count": 41,
   "id": "697d252f-4c12-4024-92f0-eda1e1b08d99",
   "metadata": {},
   "outputs": [
    {
     "name": "stdin",
     "output_type": "stream",
     "text": [
      "enter you list: 1 2 4 45 6\n",
      "  2\n"
     ]
    },
    {
     "name": "stdout",
     "output_type": "stream",
     "text": [
      "True #########\n"
     ]
    }
   ],
   "source": [
    "#Write a function element_exists(lst, value) that takes a list and a value, and returns True if the value exists in the list, otherwise False.\n",
    "\n",
    "def element_exists(lst, value):\n",
    "       return value in lst\n",
    "lst = list(map(int,input(\"enter you list:\" ).split()))\n",
    "value = int(input(\" \"))\n",
    "c = element_exists(lst, value)\n",
    "print(c,\"#########\")\n"
   ]
  },
  {
   "cell_type": "code",
   "execution_count": 42,
   "id": "1b6bd93b-72cd-450f-91c7-fe0808c228ef",
   "metadata": {},
   "outputs": [
    {
     "name": "stdin",
     "output_type": "stream",
     "text": [
      "  1 2 3 4 5 6 7\n"
     ]
    },
    {
     "name": "stdout",
     "output_type": "stream",
     "text": [
      "7\n"
     ]
    }
   ],
   "source": [
    "#Write a function list_length(lst) that takes a list and returns the number of elements in the list without using the len() function.\n",
    "\n",
    "def list_length(lst):\n",
    "    count = 0\n",
    "    for i in lst:\n",
    "        count += 1\n",
    "    return count\n",
    "\n",
    "lst = list(map(int,input(\" \").split()))\n",
    "k = list_length(lst)\n",
    "print(k)\n"
   ]
  },
  {
   "cell_type": "code",
   "execution_count": 46,
   "id": "6ccc7484-97a3-4c76-b223-d1d23604b3b6",
   "metadata": {},
   "outputs": [
    {
     "name": "stdin",
     "output_type": "stream",
     "text": [
      "  1 2 2 3 3 4 4 5 6 7 8 9\n",
      "  2\n"
     ]
    },
    {
     "name": "stdout",
     "output_type": "stream",
     "text": [
      "[1, 3, 3, 4, 4, 5, 6, 7, 8, 9]\n"
     ]
    }
   ],
   "source": [
    "#Write a function remove_element(lst, value) that removes all occurrences of a specified value from the list and returns the new list.\n",
    "\n",
    "def remove_element(lst, value):\n",
    "    return [i for i in lst if i != value]\n",
    "\n",
    "lst = list(map(int,input(\" \").split()))\n",
    "value = int(input(\" \"))\n",
    "k = remove_element(lst, value)\n",
    "print(k)\n"
   ]
  },
  {
   "cell_type": "code",
   "execution_count": null,
   "id": "8b65740a-a60f-49d7-9c68-df520a2f994d",
   "metadata": {},
   "outputs": [],
   "source": []
  }
 ],
 "metadata": {
  "kernelspec": {
   "display_name": "Python 3 (ipykernel)",
   "language": "python",
   "name": "python3"
  },
  "language_info": {
   "codemirror_mode": {
    "name": "ipython",
    "version": 3
   },
   "file_extension": ".py",
   "mimetype": "text/x-python",
   "name": "python",
   "nbconvert_exporter": "python",
   "pygments_lexer": "ipython3",
   "version": "3.12.7"
  }
 },
 "nbformat": 4,
 "nbformat_minor": 5
}
