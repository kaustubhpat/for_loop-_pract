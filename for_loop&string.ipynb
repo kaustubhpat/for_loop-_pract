{
 "cells": [
  {
   "cell_type": "code",
   "execution_count": 1,
   "id": "44c14c69-17b7-47b6-ba2b-2f6b8a3b8a69",
   "metadata": {},
   "outputs": [
    {
     "name": "stdout",
     "output_type": "stream",
     "text": [
      "1\n",
      "2\n",
      "3\n",
      "4\n",
      "5\n",
      "6\n",
      "7\n",
      "8\n",
      "9\n",
      "10\n"
     ]
    }
   ],
   "source": [
    "#Print a Range: Write a program to print all numbers from 1 to 10 using a for loop.\n",
    "for i in range(1,11):\n",
    "    print(i)"
   ]
  },
  {
   "cell_type": "code",
   "execution_count": 3,
   "id": "017aba3d-a7c6-4ee0-b328-650d889ac56b",
   "metadata": {},
   "outputs": [
    {
     "name": "stdout",
     "output_type": "stream",
     "text": [
      "210\n"
     ]
    }
   ],
   "source": [
    "#Sum of Numbers: Write a program to calculate the sum of all numbers from 1 to 20.\n",
    "s = 0\n",
    "for i in range(1,21):\n",
    "    s += i\n",
    "\n",
    "print(s)\n"
   ]
  },
  {
   "cell_type": "code",
   "execution_count": 4,
   "id": "ca019827-176b-4ef1-a4ce-2e8c19bdb11e",
   "metadata": {},
   "outputs": [
    {
     "name": "stdout",
     "output_type": "stream",
     "text": [
      "2\n",
      "4\n",
      "6\n",
      "8\n",
      "10\n",
      "12\n",
      "14\n",
      "16\n",
      "18\n",
      "20\n",
      "22\n",
      "24\n",
      "26\n",
      "28\n",
      "30\n",
      "32\n",
      "34\n",
      "36\n",
      "38\n",
      "40\n",
      "42\n",
      "44\n",
      "46\n",
      "48\n",
      "50\n"
     ]
    }
   ],
   "source": [
    "#Even Numbers: Print all even numbers between 1 and 50.\n",
    "for i in range(1,51):\n",
    "    if i%2==0:\n",
    "        print(i)"
   ]
  },
  {
   "cell_type": "code",
   "execution_count": 5,
   "id": "dcc81a72-b116-4f05-b345-5c5a859064ef",
   "metadata": {},
   "outputs": [
    {
     "name": "stdout",
     "output_type": "stream",
     "text": [
      "1\n",
      "3\n",
      "5\n",
      "7\n",
      "9\n",
      "11\n",
      "13\n",
      "15\n",
      "17\n",
      "19\n",
      "21\n",
      "23\n",
      "25\n",
      "27\n",
      "29\n",
      "31\n",
      "33\n",
      "35\n",
      "37\n",
      "39\n",
      "41\n",
      "43\n",
      "45\n",
      "47\n",
      "49\n"
     ]
    }
   ],
   "source": [
    "#Even Numbers: Print all odd numbers between 1 and 50.\n",
    "for i in range(1,50):\n",
    "    if i%2!=0:\n",
    "        print(i)"
   ]
  },
  {
   "cell_type": "code",
   "execution_count": 17,
   "id": "d043a3f1-c3e2-44a5-bbff-0991f8f6943e",
   "metadata": {},
   "outputs": [
    {
     "name": "stdout",
     "output_type": "stream",
     "text": [
      "49\n",
      "47\n",
      "45\n",
      "43\n",
      "41\n",
      "39\n",
      "37\n",
      "35\n",
      "33\n",
      "31\n",
      "29\n",
      "27\n",
      "25\n",
      "23\n",
      "21\n",
      "19\n",
      "17\n",
      "15\n",
      "13\n",
      "11\n",
      "9\n",
      "7\n",
      "5\n",
      "3\n",
      "1\n"
     ]
    }
   ],
   "source": [
    "#Even Numbers: Print all odd numbers between 1 and 50 in reverse order.\n",
    "for i in range(49,0,-2):\n",
    "    print(i)    "
   ]
  },
  {
   "cell_type": "code",
   "execution_count": 25,
   "id": "fff18177-a8f6-4c31-88f7-395d4b9d3958",
   "metadata": {},
   "outputs": [
    {
     "name": "stdout",
     "output_type": "stream",
     "text": [
      "50\n",
      "48\n",
      "46\n",
      "44\n",
      "42\n",
      "40\n",
      "38\n",
      "36\n",
      "34\n",
      "32\n",
      "30\n",
      "28\n",
      "26\n",
      "24\n",
      "22\n",
      "20\n",
      "18\n",
      "16\n",
      "14\n",
      "12\n",
      "10\n",
      "8\n",
      "6\n",
      "4\n",
      "2\n"
     ]
    }
   ],
   "source": [
    "#Even Numbers: Print all even numbers between 1 and 50 in reverse order.\n",
    "for i in range(50,1,-2):\n",
    "    print(i)    "
   ]
  },
  {
   "cell_type": "code",
   "execution_count": 27,
   "id": "4f60b874-d635-46c1-9d33-0a92a4d7c6cc",
   "metadata": {},
   "outputs": [
    {
     "name": "stdout",
     "output_type": "stream",
     "text": [
      "Alice\n",
      "Bob\n",
      "Charlie\n"
     ]
    }
   ],
   "source": [
    "#Iterate Through a List: Given a list: names = [\"Alice\", \"Bob\", \"Charlie\"], print each name on a new line.\n",
    "names = [\"Alice\", \"Bob\", \"Charlie\"]\n",
    "for i in names:\n",
    "    print(i)\n"
   ]
  },
  {
   "cell_type": "code",
   "execution_count": 28,
   "id": "288cc150-477b-4e8b-9a74-0860eec92d0d",
   "metadata": {},
   "outputs": [
    {
     "name": "stdout",
     "output_type": "stream",
     "text": [
      "11\n"
     ]
    }
   ],
   "source": [
    "#Count Characters: Write a program to count the number of characters in the string \"hello world\" using a loop.\n",
    "st= \"hello world\"\n",
    "count = 0\n",
    "for char in st:\n",
    "    count += 1\n",
    "\n",
    "print(count)"
   ]
  },
  {
   "cell_type": "code",
   "execution_count": 34,
   "id": "5028e461-6411-4a32-96e1-3315d2a2aa25",
   "metadata": {},
   "outputs": [
    {
     "name": "stdout",
     "output_type": "stream",
     "text": [
      "5\n",
      "10\n",
      "15\n",
      "20\n",
      "25\n",
      "30\n",
      "35\n",
      "40\n",
      "45\n",
      "50\n",
      "5 x 1 = 5\n",
      "5 x 2 = 10\n",
      "5 x 3 = 15\n",
      "5 x 4 = 20\n",
      "5 x 5 = 25\n",
      "5 x 6 = 30\n",
      "5 x 7 = 35\n",
      "5 x 8 = 40\n",
      "5 x 9 = 45\n",
      "5 x 10 = 50\n"
     ]
    }
   ],
   "source": [
    "#Multiplication Table: Write a program to display the multiplication table of 5 (e.g., 5 x 1 = 5, 5 x 2 = 10, ...).\n",
    "\n",
    "for i in range(1,11):\n",
    "    c=i*5\n",
    "    print(c)\n",
    "\n",
    "####or ######\n",
    "# Program to display the multiplication table of 5\n",
    "for i in range(1, 11):\n",
    "    print(f\"5 x {i} = {5 * i}\")\n"
   ]
  },
  {
   "cell_type": "code",
   "execution_count": 37,
   "id": "369dd461-f1ae-4a07-a8e6-cdaa8210e05c",
   "metadata": {},
   "outputs": [
    {
     "name": "stdout",
     "output_type": "stream",
     "text": [
      "nohtyP\n"
     ]
    }
   ],
   "source": [
    "#Reverse a String: Use a loop to reverse the string \"Python\".\n",
    "s = \"Python\"\n",
    "for char in s:\n",
    "    r=s[::-1]\n",
    "print(r)"
   ]
  },
  {
   "cell_type": "code",
   "execution_count": 43,
   "id": "e294ec25-3860-4fa8-9d1c-fa90a2a7bdff",
   "metadata": {},
   "outputs": [
    {
     "name": "stdout",
     "output_type": "stream",
     "text": [
      "385\n"
     ]
    }
   ],
   "source": [
    "#Sum of Squares: Write a program to calculate the sum of squares of numbers from 1 to 10. \n",
    "sos =0\n",
    "for i in range(1,11):\n",
    "    sos+=i**2\n",
    "print(sos)\n"
   ]
  },
  {
   "cell_type": "code",
   "execution_count": 46,
   "id": "14417faf-66bc-48e2-ae4a-4bd44e47153e",
   "metadata": {},
   "outputs": [
    {
     "name": "stdout",
     "output_type": "stream",
     "text": [
      "50\n"
     ]
    }
   ],
   "source": [
    "#Find Maximum: Given a list of numbers [10, 20, 30, 40, 50], write a loop to find the maximum value.\n",
    "\n",
    "lst =[10, 20, 30, 40, 50]\n",
    "max_value =lst[0]\n",
    "for i in lst:\n",
    "    if i>max_value:\n",
    "        max_value = i\n",
    "print(max_value)\n"
   ]
  },
  {
   "cell_type": "code",
   "execution_count": 55,
   "id": "4f273821-39e3-4308-a5a1-4db4fa8b2794",
   "metadata": {},
   "outputs": [
    {
     "name": "stdout",
     "output_type": "stream",
     "text": [
      "[0, 10, 20, 30, 40]\n"
     ]
    }
   ],
   "source": [
    "####find the difference between to element and print in list.\n",
    "lst = [10, 20, 30, 40, 50]\n",
    "f_e = lst[0]\n",
    "l=[]\n",
    "for i in lst:\n",
    "    d=i-f_e\n",
    "    l.append(d)\n",
    "print(l)    "
   ]
  },
  {
   "cell_type": "code",
   "execution_count": 58,
   "id": "07e15460-f748-49b2-bb99-d4f44e813211",
   "metadata": {},
   "outputs": [
    {
     "name": "stdout",
     "output_type": "stream",
     "text": [
      "*\n",
      "**\n",
      "***\n",
      "****\n",
      "*****\n"
     ]
    }
   ],
   "source": [
    "#Pattern Printing: Print the following pattern using a loop:\n",
    "for i in range (1,6):\n",
    "    print(\"*\" * i)"
   ]
  },
  {
   "cell_type": "code",
   "execution_count": 66,
   "id": "40efb289-3107-46e1-9de8-e350da329cd2",
   "metadata": {},
   "outputs": [
    {
     "name": "stdout",
     "output_type": "stream",
     "text": [
      "2 3 5 7 11 13 17 19 23 29 31 37 41 43 47 "
     ]
    }
   ],
   "source": [
    "##Prime Numbers: Write a program to print all prime numbers between 1 and 50.\n",
    "for i in range (1,50):\n",
    "    if i >1:\n",
    "        for j in range(2,i):\n",
    "            if i% j ==0:\n",
    "                break\n",
    "\n",
    "        else:\n",
    "            print(i, end= \" \")\n"
   ]
  },
  {
   "cell_type": "code",
   "execution_count": 70,
   "id": "608a1bed-fc08-4950-9855-45ab33d240a4",
   "metadata": {},
   "outputs": [
    {
     "name": "stdout",
     "output_type": "stream",
     "text": [
      "120\n"
     ]
    }
   ],
   "source": [
    "#Factorial: Calculate the factorial of a given number (e.g., 5! = 5 × 4 × 3 × 2 × 1)\n",
    "n=5\n",
    "f = 1\n",
    "for i in range(1,n+1):\n",
    "    f *= i \n",
    "\n",
    "print(f)"
   ]
  },
  {
   "cell_type": "code",
   "execution_count": 77,
   "id": "4d286723-47b5-410e-8a80-4c62c62d4eae",
   "metadata": {},
   "outputs": [
    {
     "name": "stdout",
     "output_type": "stream",
     "text": [
      "1*1=1\t1*2=2\t1*3=3\t1*4=4\t1*5=5\t1*6=6\t1*7=7\t1*8=8\t1*9=9\t1*10=10\t\n",
      "2*1=2\t2*2=4\t2*3=6\t2*4=8\t2*5=10\t2*6=12\t2*7=14\t2*8=16\t2*9=18\t2*10=20\t\n",
      "3*1=3\t3*2=6\t3*3=9\t3*4=12\t3*5=15\t3*6=18\t3*7=21\t3*8=24\t3*9=27\t3*10=30\t\n",
      "4*1=4\t4*2=8\t4*3=12\t4*4=16\t4*5=20\t4*6=24\t4*7=28\t4*8=32\t4*9=36\t4*10=40\t\n",
      "5*1=5\t5*2=10\t5*3=15\t5*4=20\t5*5=25\t5*6=30\t5*7=35\t5*8=40\t5*9=45\t5*10=50\t\n"
     ]
    }
   ],
   "source": [
    "#Nested Loop - Multiplication Table: Use nested for loops to print the multiplication tables from 1 to 5.\n",
    "for i in range(1,6):\n",
    "    for j in range(1,11):\n",
    "        print(f\"{i}*{j}={i*j}\",end=\"\\t\")\n",
    "    print() "
   ]
  },
  {
   "cell_type": "code",
   "execution_count": null,
   "id": "294ad041-a4aa-44a2-99ca-a53bf8fe57eb",
   "metadata": {},
   "outputs": [],
   "source": [
    "#######################STRING##############"
   ]
  },
  {
   "cell_type": "code",
   "execution_count": 79,
   "id": "861b65e6-ce6f-4e9c-8e5f-f7a71cda20ee",
   "metadata": {},
   "outputs": [
    {
     "name": "stdout",
     "output_type": "stream",
     "text": [
      "nohtyP\n"
     ]
    }
   ],
   "source": [
    "#Write a function to reverse a given string\n",
    "string = \"Python\"\n",
    "print(string[::-1])"
   ]
  },
  {
   "cell_type": "code",
   "execution_count": 82,
   "id": "5cc61fa9-e336-424d-a0d6-d744991554eb",
   "metadata": {},
   "outputs": [
    {
     "name": "stdout",
     "output_type": "stream",
     "text": [
      "True\n"
     ]
    }
   ],
   "source": [
    "#Write a function to check if a given string is a palindrome (reads the same backward and forward).\n",
    "pal = \"madam\"\n",
    "if pal == pal[::-1]:\n",
    "    print(True)\n",
    "else:\n",
    "    print(False)\n",
    "    "
   ]
  },
  {
   "cell_type": "code",
   "execution_count": 85,
   "id": "d42ca874-a3b6-4b53-b849-b19502e6faf1",
   "metadata": {},
   "outputs": [
    {
     "name": "stdin",
     "output_type": "stream",
     "text": [
      "   kaustubhpatel\n"
     ]
    },
    {
     "name": "stdout",
     "output_type": "stream",
     "text": [
      "5\n",
      "8\n"
     ]
    }
   ],
   "source": [
    "#Write a program to count the number of vowels and consonants in a string.\n",
    "\n",
    "text = str(input(\"  \")).lower()\n",
    "vowels = \"aeiou\"\n",
    "# Initialize counters\n",
    "vowel_count = 0\n",
    "consonant_count = 0\n",
    "\n",
    "for char in text:\n",
    "    if char.isalpha():\n",
    "        if char in vowels:\n",
    "            vowel_count += 1\n",
    "        else:\n",
    "            consonant_count += 1\n",
    "\n",
    "print(vowel_count)\n",
    "print(consonant_count)\n",
    "            \n",
    "            \n",
    "    \n"
   ]
  },
  {
   "cell_type": "code",
   "execution_count": 92,
   "id": "78537565-715d-436e-8a7b-6c4a0c564f3d",
   "metadata": {},
   "outputs": [
    {
     "name": "stdin",
     "output_type": "stream",
     "text": [
      "   kaustubh patek\n"
     ]
    },
    {
     "name": "stdout",
     "output_type": "stream",
     "text": [
      "kaustubhpatek\n"
     ]
    }
   ],
   "source": [
    "##Remove all spaces from a string and print the result\n",
    "\n",
    "text = input(\"  \").lower()\n",
    "for word in text:\n",
    "    r = text.replace(\" \",\"\")\n",
    "print(r)"
   ]
  },
  {
   "cell_type": "code",
   "execution_count": 1,
   "id": "28a232c2-28ff-43de-ae91-44b7af97d98b",
   "metadata": {},
   "outputs": [
    {
     "name": "stdin",
     "output_type": "stream",
     "text": [
      "    hellow word\n",
      "    word\n"
     ]
    },
    {
     "name": "stdout",
     "output_type": "stream",
     "text": [
      "yes substring\n"
     ]
    }
   ],
   "source": [
    "#Write a program to check if one string is a substring of another.\n",
    "\n",
    "str1 = input(\"   \").lower()\n",
    "str2 = input(\"   \").lower()\n",
    "\n",
    "if str2 in str1:\n",
    "    print(\"yes substring\")\n",
    "else:\n",
    "    print(\"not substring\")"
   ]
  },
  {
   "cell_type": "code",
   "execution_count": 2,
   "id": "e0a8589e-622b-4ff8-87da-4bfc08384b98",
   "metadata": {},
   "outputs": [
    {
     "name": "stdin",
     "output_type": "stream",
     "text": [
      "    Listen\n",
      "    Silent\n"
     ]
    },
    {
     "name": "stdout",
     "output_type": "stream",
     "text": [
      "yes\n"
     ]
    }
   ],
   "source": [
    "###Write a program to check if one string is a anagrams of another.\n",
    "str1 = input(\"   \").lower()\n",
    "str2 = input(\"   \").lower()\n",
    "if sorted(str1) == sorted(str2):\n",
    "    print(\"yes\")\n",
    "else:\n",
    "    print(\"no\")"
   ]
  },
  {
   "cell_type": "code",
   "execution_count": 8,
   "id": "23766d52-db1b-49de-90d4-77700f74786f",
   "metadata": {},
   "outputs": [
    {
     "name": "stdout",
     "output_type": "stream",
     "text": [
      "a2b1c5a3\n"
     ]
    }
   ],
   "source": [
    "#Compress a string by replacing sequences of the same character with the character followed by the count (e.g., aabcccccaaa becomes a2b1c5a3).\n",
    "x = \"aabcccccaaa\"\n",
    "compressed = \"\"\n",
    "count = 1\n",
    "\n",
    "for i in range(1, len(x)):\n",
    "    if x[i] == x[i-1]:\n",
    "        count += 1\n",
    "    else:\n",
    "        compressed += x[i-1] + str(count)\n",
    "        count = 1\n",
    "\n",
    "compressed += x[-1] + str(count)\n",
    "\n",
    "print(compressed)\n"
   ]
  },
  {
   "cell_type": "code",
   "execution_count": 15,
   "id": "b3dc413e-2317-437d-abf3-574bc3a72d05",
   "metadata": {},
   "outputs": [
    {
     "name": "stdout",
     "output_type": "stream",
     "text": [
      "a2b2s6\n"
     ]
    }
   ],
   "source": [
    "#Compress a string by replacing sequences of the same character with the character followed by the count (e.g., aabbssssss becomes a2b2s6).\n",
    "x= \"aabbssssss\"\n",
    "comp = \"\"\n",
    "count =1\n",
    "for i in range(1,len(x)):\n",
    "    if x[i] == x[i-1]:\n",
    "        count +=1\n",
    "    else:\n",
    "        comp += x[i-1] + str(count)\n",
    "        count = 1\n",
    "\n",
    "comp += x[-1] + str(count)\n",
    "\n",
    "print(comp)"
   ]
  },
  {
   "cell_type": "code",
   "execution_count": 17,
   "id": "9f31709b-f2d5-411a-bc16-2671523c5a1e",
   "metadata": {},
   "outputs": [
    {
     "name": "stdout",
     "output_type": "stream",
     "text": [
      "a2b2s3\n"
     ]
    }
   ],
   "source": [
    "#Compress a string by replacing sequences of the same character with the character followed by the count (e.g., aabbsss becomes a2b2s3).\n",
    "s1 = \"aabbsss\"\n",
    "compr  = \"\"\n",
    "count = 1\n",
    "for i in range(1,len(s1)):\n",
    "    if s1[i]== s1[i-1]:\n",
    "        count +=1\n",
    "    else:\n",
    "        compr += s1[i-1] + str (count)\n",
    "        count = 1\n",
    "\n",
    "compr += s1[-1]+str(count)\n",
    "print(compr)\n"
   ]
  },
  {
   "cell_type": "code",
   "execution_count": 22,
   "id": "10a86388-c049-4803-824d-fd0b7b378e27",
   "metadata": {},
   "outputs": [
    {
     "name": "stdout",
     "output_type": "stream",
     "text": [
      "k2a2u2s2t2u2b2h2\n"
     ]
    }
   ],
   "source": [
    "#Compress a string by replacing sequences of the same character with the character followed by the count (e.g., kkaauussttuubbhh becomes k2a2u4s2t2b2h2).\n",
    "z = \"kkaauussttuubbhh\"\n",
    "comp = \"\"\n",
    "count = 1\n",
    "for i in range(1,len(z)):\n",
    "    if z[i]==z[i-1]:\n",
    "        count += 1\n",
    "    else:\n",
    "        comp += z[i-1] + str(count)\n",
    "        count  = 1\n",
    "\n",
    "comp += z[-1] + str(count)\n",
    "print(comp)\n"
   ]
  },
  {
   "cell_type": "code",
   "execution_count": 24,
   "id": "0b9229cb-77cd-4a2e-9740-33d328b41932",
   "metadata": {},
   "outputs": [
    {
     "name": "stdout",
     "output_type": "stream",
     "text": [
      "k2a2u2s2t2u2b2h2\n"
     ]
    }
   ],
   "source": [
    "a = \"kkaauussttuubbhh\"\n",
    "comp = \"\"\n",
    "count = 1\n",
    "for i in range(1,len(a)):\n",
    "    if a[i] == a[i-1]:\n",
    "        count += 1\n",
    "    else:\n",
    "        comp += a[i-1] + str(count)\n",
    "        count =1\n",
    "\n",
    "comp += a[-1] + str(count)\n",
    "print(comp)"
   ]
  },
  {
   "cell_type": "code",
   "execution_count": 27,
   "id": "a763504b-e786-440f-9a58-3397ed2353e4",
   "metadata": {},
   "outputs": [
    {
     "name": "stdout",
     "output_type": "stream",
     "text": [
      "a2A2\n"
     ]
    }
   ],
   "source": [
    "#Custom Encoding: Modify the string compression method to work with case sensitivity (e.g., aaAA becomes a2A2)\n",
    "b = \"aaAA\"\n",
    "comp1 = \"\"\n",
    "count = 1\n",
    "for i in range(1,len(b)):\n",
    "    if b[i] == b[i-1]:\n",
    "        count += 1\n",
    "    else:\n",
    "        comp1 += b[i-1] + str(count)\n",
    "        count = 1\n",
    "\n",
    "comp1 += b[-1] + str(count)\n",
    "print(comp1)"
   ]
  },
  {
   "cell_type": "code",
   "execution_count": 30,
   "id": "0b51f8a3-1b36-465b-a48a-76905a91e6e8",
   "metadata": {},
   "outputs": [
    {
     "name": "stdout",
     "output_type": "stream",
     "text": [
      "True\n"
     ]
    }
   ],
   "source": [
    "#Pattern Matching: Given a compressed string and an original string, check if the compressed string is a valid encoding of the original.\n",
    "\n",
    "def is_valid(comp,original):\n",
    "    decode = \"\"\n",
    "    for i in range(0,len(comp),2):\n",
    "        char = comp[i]\n",
    "        count = int(comp[i +1])\n",
    "        decode += char * count\n",
    "    return decode == original\n",
    "\n",
    "comp = \"a2b2s6\"\n",
    "original = \"aabbssssss\"\n",
    "d = is_valid(comp,original)\n",
    "print(d)"
   ]
  },
  {
   "cell_type": "code",
   "execution_count": 35,
   "id": "a6b550ba-3d60-461d-aa8a-3c44c7f7da44",
   "metadata": {},
   "outputs": [
    {
     "name": "stdout",
     "output_type": "stream",
     "text": [
      "True\n"
     ]
    }
   ],
   "source": [
    "def is_valid(comp,ori):\n",
    "    decoded = \"\"\n",
    "    for i in range(0,len(comp),2):\n",
    "        char = comp[i]\n",
    "        count = int(comp[i+1])\n",
    "        decoded  += char* count\n",
    "    return decoded == ori\n",
    "comp = \"a2b2s6\"\n",
    "ori = \"aabbssssss\"\n",
    "d = is_valid(comp,ori)\n",
    "print(d)\n"
   ]
  },
  {
   "cell_type": "code",
   "execution_count": 12,
   "id": "a0fe6063-e88f-4aad-869e-b006f7145350",
   "metadata": {},
   "outputs": [
    {
     "name": "stdout",
     "output_type": "stream",
     "text": [
      "c5a5b3\n"
     ]
    }
   ],
   "source": [
    "#Compress a string by replacing sequences of the same character with the character followed by the count (e.g., aabbcccccaaab becomes a5b3c5).\n",
    "\n",
    "x = \"aabbcccccaaab\"\n",
    "compressed = \"\"  \n",
    "for char in set(x):  # set() will remove duplicates\n",
    "    count = x.count(char)  # count how many times char appears in the string\n",
    "    compressed += char + str(count)  # add the char and count to the result\n",
    "print(compressed)\n"
   ]
  },
  {
   "cell_type": "code",
   "execution_count": null,
   "id": "4bc2b853-f76d-443c-8f9b-a05926435c1e",
   "metadata": {},
   "outputs": [],
   "source": []
  },
  {
   "cell_type": "code",
   "execution_count": null,
   "id": "0e760491-0ea0-4bf3-9b89-bf248c15923f",
   "metadata": {},
   "outputs": [],
   "source": []
  },
  {
   "cell_type": "code",
   "execution_count": null,
   "id": "8c536001-85ce-4dd5-af02-29d74a1bbdb4",
   "metadata": {},
   "outputs": [],
   "source": []
  },
  {
   "cell_type": "code",
   "execution_count": null,
   "id": "9c41a03b-cc17-4f25-9b47-11b4a14d42c5",
   "metadata": {},
   "outputs": [],
   "source": []
  },
  {
   "cell_type": "code",
   "execution_count": null,
   "id": "fcced654-8038-49c6-8b43-efdb0e7d256a",
   "metadata": {},
   "outputs": [],
   "source": []
  },
  {
   "cell_type": "code",
   "execution_count": null,
   "id": "83c35040-7c3d-4cfa-bd45-b17f7ec1ccb5",
   "metadata": {},
   "outputs": [],
   "source": []
  },
  {
   "cell_type": "code",
   "execution_count": null,
   "id": "dd70d963-1a51-42fa-a51a-79360db8803c",
   "metadata": {},
   "outputs": [],
   "source": []
  },
  {
   "cell_type": "code",
   "execution_count": null,
   "id": "12f1fec5-bf94-4c11-82f0-0e9c8cfc0710",
   "metadata": {},
   "outputs": [],
   "source": []
  },
  {
   "cell_type": "code",
   "execution_count": null,
   "id": "6b56af0d-cda7-4e36-a81b-c3ad7ae12d2c",
   "metadata": {},
   "outputs": [],
   "source": []
  },
  {
   "cell_type": "code",
   "execution_count": null,
   "id": "bebaa1dc-f865-4d5c-8be7-503480fd7b3a",
   "metadata": {},
   "outputs": [],
   "source": []
  },
  {
   "cell_type": "code",
   "execution_count": null,
   "id": "8c2bc322-5707-4817-b452-8be463bc47ec",
   "metadata": {},
   "outputs": [],
   "source": []
  },
  {
   "cell_type": "code",
   "execution_count": null,
   "id": "12e322df-2ae7-4b2b-a8e3-ee33ad96e5b7",
   "metadata": {},
   "outputs": [],
   "source": []
  },
  {
   "cell_type": "code",
   "execution_count": null,
   "id": "389c903c-2860-4206-aaef-68a7b38b4b82",
   "metadata": {},
   "outputs": [],
   "source": []
  },
  {
   "cell_type": "code",
   "execution_count": null,
   "id": "a0d2a44c-e219-4a51-89f9-e87211df86ab",
   "metadata": {},
   "outputs": [],
   "source": []
  },
  {
   "cell_type": "code",
   "execution_count": null,
   "id": "a69b5c5d-4759-40e0-97d6-91fdb6cbf20d",
   "metadata": {},
   "outputs": [],
   "source": []
  }
 ],
 "metadata": {
  "kernelspec": {
   "display_name": "Python 3 (ipykernel)",
   "language": "python",
   "name": "python3"
  },
  "language_info": {
   "codemirror_mode": {
    "name": "ipython",
    "version": 3
   },
   "file_extension": ".py",
   "mimetype": "text/x-python",
   "name": "python",
   "nbconvert_exporter": "python",
   "pygments_lexer": "ipython3",
   "version": "3.12.7"
  }
 },
 "nbformat": 4,
 "nbformat_minor": 5
}
