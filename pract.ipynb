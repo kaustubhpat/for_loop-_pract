{
 "cells": [
  {
   "cell_type": "code",
   "execution_count": 1,
   "id": "08889fee-be25-4701-a46c-f919d4c0f4ea",
   "metadata": {},
   "outputs": [
    {
     "name": "stdout",
     "output_type": "stream",
     "text": [
      "hbutsuak\n"
     ]
    }
   ],
   "source": [
    "#Write a function to reverse a string.\n",
    "def rev (stri):\n",
    "    return stri[::-1]\n",
    "\n",
    "r = rev(\"kaustubh\")\n",
    "print(r)"
   ]
  },
  {
   "cell_type": "code",
   "execution_count": 5,
   "id": "47d712e1-20c6-4d43-a6bd-8cc7466236fa",
   "metadata": {},
   "outputs": [
    {
     "name": "stdout",
     "output_type": "stream",
     "text": [
      "True\n"
     ]
    }
   ],
   "source": [
    "#Check if a given string is a palindrome.\n",
    "def check_palindrome(stri):\n",
    "    if stri == stri[::-1]:\n",
    "        print(True)\n",
    "    else:\n",
    "        print(False)\n",
    "check_palindrome('madam')\n"
   ]
  },
  {
   "cell_type": "code",
   "execution_count": 8,
   "id": "0ee505bc-847c-4cc7-ab3c-684d995b7873",
   "metadata": {},
   "outputs": [
    {
     "data": {
      "text/plain": [
       "{'k': 1, 'a': 1, 'u': 2, 's': 1, 't': 1, 'b': 1, 'h': 1}"
      ]
     },
     "execution_count": 8,
     "metadata": {},
     "output_type": "execute_result"
    }
   ],
   "source": [
    "##Count the frequency of each character in a string.\n",
    "\n",
    "def count_fre(st):\n",
    "    count = {}\n",
    "    for i in st:\n",
    "        if i in count:\n",
    "            count[i] += 1\n",
    "        else:\n",
    "            count[i] = 1\n",
    "            \n",
    "    return count\n",
    "\n",
    "count_fre(\"kaustubh\")"
   ]
  },
  {
   "cell_type": "code",
   "execution_count": 17,
   "id": "fb15bb49-7d93-4db8-bfe8-31dc2438dc93",
   "metadata": {},
   "outputs": [
    {
     "name": "stdout",
     "output_type": "stream",
     "text": [
      "Kaustubh Patel\n"
     ]
    }
   ],
   "source": [
    "#Write a function to capitalize the first letter of each word in a string.\n",
    "def cap (st):\n",
    "    return st.title()\n",
    "l=cap('kaustubh patel')\n",
    "print(l)"
   ]
  },
  {
   "cell_type": "code",
   "execution_count": 23,
   "id": "83b2106c-f0f4-4bc0-98ff-3907d1ba19ba",
   "metadata": {},
   "outputs": [
    {
     "name": "stdout",
     "output_type": "stream",
     "text": [
      "kl\n"
     ]
    }
   ],
   "source": [
    "#Remove all duplicates from a string while maintaining the order.\n",
    "def dupli(st):\n",
    "    comp = \"\"\n",
    "    for i in st:\n",
    "        if i not in comp:\n",
    "            comp += i\n",
    "    return comp\n",
    "a=dupli('kkkkklll')\n",
    "print(a)"
   ]
  },
  {
   "cell_type": "code",
   "execution_count": 27,
   "id": "a272d931-402c-475b-ad06-b56ca5716326",
   "metadata": {},
   "outputs": [
    {
     "name": "stdin",
     "output_type": "stream",
     "text": [
      "aaaaaaaaaaaaaaaaaaabbbbbbbbbbbbbbbssssssdddffjfieffffff aaaaaaaaaaaaaaaaabbbbbbbbbbbbbbbbbbbccccccccccccccccc\n"
     ]
    },
    {
     "name": "stdout",
     "output_type": "stream",
     "text": [
      "abc\n"
     ]
    }
   ],
   "source": [
    "def duplicate_remove(st):\n",
    "    com = \"\"\n",
    "    for char in st:\n",
    "        if char not in com:\n",
    "            com += char\n",
    "    return com\n",
    "l= duplicate_remove(input(\"aaaaaaaaaaaaaaaaaaabbbbbbbbbbbbbbbssssssdddffjfieffffff\"))\n",
    "print(l)"
   ]
  },
  {
   "cell_type": "code",
   "execution_count": 9,
   "id": "aa8b8a12-4809-4d03-98d4-fd4586028d63",
   "metadata": {},
   "outputs": [
    {
     "name": "stdout",
     "output_type": "stream",
     "text": [
      "abcdef\n"
     ]
    }
   ],
   "source": [
    "#Find the longest substring without repeating characters.\n",
    "def longest_sub(st):\n",
    "    start,longest = 0 , \"\"\n",
    "    for i in range(len(st)):\n",
    "        if st[i] in st[start:i]:\n",
    "            start += st[start:i].index(st[i]) + 1\n",
    "        if len(st[start:i])> len(longest):\n",
    "            longest = st[start:i + 1]\n",
    "    return longest\n",
    "\n",
    "print(longest_sub(\"aabcdefac\"))"
   ]
  },
  {
   "cell_type": "code",
   "execution_count": 15,
   "id": "6429c8bf-38dc-475d-a9be-f6d2b6ae3fcc",
   "metadata": {},
   "outputs": [
    {
     "name": "stdout",
     "output_type": "stream",
     "text": [
      "lqkeuhfi\n"
     ]
    }
   ],
   "source": [
    "def longest_sub(st):\n",
    "    start,longest = 0,\"\"\n",
    "    for i in range(len(st)):\n",
    "        if st[i] in st[start:i]:\n",
    "            start += st[start:i].index(st[i]) + 1\n",
    "        if len(st[start:i]) > len(longest):\n",
    "            longest = st[start:i +1 ]\n",
    "    return longest\n",
    "print(longest_sub(\"kkkkklllllqkeuhfiurh4tiurhkghkeruhgoiu0394\"))"
   ]
  },
  {
   "cell_type": "code",
   "execution_count": 17,
   "id": "494282d0-0486-4776-af00-e0deb8eadbc2",
   "metadata": {},
   "outputs": [
    {
     "name": "stdout",
     "output_type": "stream",
     "text": [
      "hfbgijur\n"
     ]
    }
   ],
   "source": [
    "def long_sub(st):\n",
    "    start, longest = 0,\"\"\n",
    "    for i in range(len(st)):\n",
    "        if st[i] in st[start:i]:\n",
    "            start += st[start:].index(st[i]) + 1\n",
    "        if len(st[start:i]) > len(longest):\n",
    "            longest = st[start:i + 1]\n",
    "    return longest\n",
    "\n",
    "print(long_sub('abgcjjhfbgijureh'))"
   ]
  },
  {
   "cell_type": "code",
   "execution_count": 29,
   "id": "518deed3-3c6d-4f78-8be5-693ce828c6dd",
   "metadata": {},
   "outputs": [
    {
     "name": "stdin",
     "output_type": "stream",
     "text": [
      "enter your number:   2\n"
     ]
    },
    {
     "name": "stdout",
     "output_type": "stream",
     "text": [
      "13\n"
     ]
    }
   ],
   "source": [
    "#write a function to generate random number without using any inbuild functin\n",
    "def my_random (seed):\n",
    "    seed = (seed * 3 + 7)% 100\n",
    "    return seed\n",
    "seed = int(input(\"enter your number:  \"))\n",
    "\n",
    "for i in range(1):\n",
    "    seed = my_random(seed)\n",
    "    print(seed)\n",
    "    "
   ]
  },
  {
   "cell_type": "code",
   "execution_count": 39,
   "id": "d77a02b6-f058-478b-af54-e81fafe1bab4",
   "metadata": {},
   "outputs": [
    {
     "name": "stdin",
     "output_type": "stream",
     "text": [
      "enter your substring :   kl\n",
      "enter ur string :  kkkkkkkkkkkkkkkkklkkkkkkkkkkkkkkkklk\n"
     ]
    },
    {
     "name": "stdout",
     "output_type": "stream",
     "text": [
      "True\n"
     ]
    }
   ],
   "source": [
    "#Check if a given substring exists in a string without using built-in functions\n",
    "substring = str(input(\"enter your substring :  \"))\n",
    "def st_check(st):\n",
    "    for i in st:\n",
    "        if substring in st:\n",
    "            print(True)\n",
    "            break\n",
    "        else:\n",
    "            print(False)\n",
    "\n",
    "st_check(str(input(\"enter ur string : \")))"
   ]
  },
  {
   "cell_type": "code",
   "execution_count": 57,
   "id": "c0fdd712-1e53-4b39-ac9e-ae7bb2a5cb6d",
   "metadata": {},
   "outputs": [
    {
     "name": "stdin",
     "output_type": "stream",
     "text": [
      "enter substring:  cd\n"
     ]
    },
    {
     "data": {
      "text/plain": [
       "False"
      ]
     },
     "execution_count": 57,
     "metadata": {},
     "output_type": "execute_result"
    }
   ],
   "source": [
    "#Check if a given substring exists in a string without using built-in functions\n",
    "def find_substring(st,substring):\n",
    "    for i in range(len(st)-len(substring) + 1):\n",
    "        if st[i:i+len(substring)]==substring:\n",
    "            return True\n",
    "    return False\n",
    "\n",
    "substring = input(\"enter substring: \")\n",
    "find_substring(\"aaaaabaaaaabbb\", substring)"
   ]
  },
  {
   "cell_type": "code",
   "execution_count": 54,
   "id": "873b4115-d76d-4219-b93e-501244972959",
   "metadata": {},
   "outputs": [
    {
     "name": "stdin",
     "output_type": "stream",
     "text": [
      "Enter substring:  aa\n"
     ]
    },
    {
     "name": "stdout",
     "output_type": "stream",
     "text": [
      "The substring 'aa' appears 3 times.\n"
     ]
    }
   ],
   "source": [
    "#Write a function to find all occurrences of a substring in a string\n",
    "def count_st(st,substring):\n",
    "    count = 0\n",
    "    for i in range(len(st)-len(substring) + 1):\n",
    "        if st[i:i+len(substring)]==substring:\n",
    "            count +=1\n",
    "    return count\n",
    "substring = input(\"Enter substring: \")\n",
    "result = count_st(\"aabbaabbaa\", substring)\n",
    "print(f\"The substring '{substring}' appears {result} times.\")\n",
    "\n"
   ]
  },
  {
   "cell_type": "code",
   "execution_count": 8,
   "id": "5bc81880-2a03-4d6e-8ded-16b2a75116d9",
   "metadata": {},
   "outputs": [
    {
     "name": "stdout",
     "output_type": "stream",
     "text": [
      "kzzstzbh\n"
     ]
    }
   ],
   "source": [
    "#Replace all vowels in a string with a specific character.\n",
    "def replace_v(st,char ='z'):\n",
    "    vowels = 'aeiouAEIOU'\n",
    "    result = ''\n",
    "    for i in st:\n",
    "        if i in vowels:\n",
    "            result += char\n",
    "        else:\n",
    "            result += i\n",
    "            \n",
    "    return result\n",
    "result = replace_v(\"kaustubh\")\n",
    "print(result)"
   ]
  },
  {
   "cell_type": "code",
   "execution_count": 10,
   "id": "68a9b1d9-9477-4078-bc43-f9b33ff090dd",
   "metadata": {},
   "outputs": [
    {
     "name": "stdout",
     "output_type": "stream",
     "text": [
      "a3b2\n"
     ]
    }
   ],
   "source": [
    "#Write a function to compress a string using the counts of repeated characters (e.g., \"aaabb\" → \"a3b2\")\n",
    "\n",
    "def compress(st):\n",
    "    comp = ''\n",
    "    count = 1\n",
    "    for i in range(1,len(st)):\n",
    "        if st[i]==st[i-1]:\n",
    "            count +=1\n",
    "        else:\n",
    "            comp += st[i-1]+str(count)\n",
    "            count = 1\n",
    "    if st:\n",
    "        comp += st[-1]+str(count)\n",
    "        \n",
    "    return comp\n",
    "\n",
    "result = compress(\"aaabb\")\n",
    "print(result)  # Output: \"a3b2\""
   ]
  },
  {
   "cell_type": "code",
   "execution_count": 13,
   "id": "4a67d358-b6a5-4f96-ade6-32f6bc8dcbc8",
   "metadata": {},
   "outputs": [
    {
     "name": "stdin",
     "output_type": "stream",
     "text": [
      "enter your string :  listen\n",
      "enter your string :  silent\n"
     ]
    },
    {
     "name": "stdout",
     "output_type": "stream",
     "text": [
      "True\n"
     ]
    }
   ],
   "source": [
    "#Check if two strings are anagrams of each other\n",
    "st1 = input(\"enter your string : \")\n",
    "st2 = input(\"enter your string : \")\n",
    "if sorted(st1) == sorted(st2):\n",
    "    print(True)\n",
    "else:\n",
    "    print(False)"
   ]
  },
  {
   "cell_type": "code",
   "execution_count": 14,
   "id": "b2617dbd-1ab2-4534-85f2-73ba2b50b90c",
   "metadata": {},
   "outputs": [
    {
     "name": "stdin",
     "output_type": "stream",
     "text": [
      "Enter your first string:  listen\n",
      "Enter your second string:  silent\n"
     ]
    },
    {
     "name": "stdout",
     "output_type": "stream",
     "text": [
      "True\n"
     ]
    }
   ],
   "source": [
    "def are_anagrams(st1,st2):\n",
    "    return sorted(st1) == sorted(st2)\n",
    "st1 = input(\"Enter your first string: \")\n",
    "st2 = input(\"Enter your second string: \")\n",
    "if are_anagrams(st1,st2):\n",
    "    print(True)\n",
    "else:\n",
    "    print(Flase)"
   ]
  },
  {
   "cell_type": "code",
   "execution_count": null,
   "id": "7640a2af-913e-42c1-9597-e67897e38615",
   "metadata": {},
   "outputs": [],
   "source": [
    "######################################list########################"
   ]
  },
  {
   "cell_type": "code",
   "execution_count": 16,
   "id": "a1ca151c-1ae2-4003-95ac-ba2bd59967eb",
   "metadata": {},
   "outputs": [
    {
     "name": "stdout",
     "output_type": "stream",
     "text": [
      "[3, 2, 1]\n"
     ]
    }
   ],
   "source": [
    "#Write a function to reverse a list without using built-in functions.\n",
    "def rev_list(lst):\n",
    "    k = []\n",
    "    for i in range(len(lst)-1,-1,-1):\n",
    "        k.append(lst[i])\n",
    "    return k\n",
    "os = [1,2,3]\n",
    "rs = rev_list(os)\n",
    "print(rs)"
   ]
  },
  {
   "cell_type": "code",
   "execution_count": 18,
   "id": "ea3553e6-9e49-410b-ad31-8b9bf738ff9e",
   "metadata": {},
   "outputs": [
    {
     "data": {
      "text/plain": [
       "(45, 1)"
      ]
     },
     "execution_count": 18,
     "metadata": {},
     "output_type": "execute_result"
    }
   ],
   "source": [
    "#Find the maximum and minimum elements in a list.\n",
    "def max_min(lst):\n",
    "    return max(lst), min(lst)\n",
    "\n",
    "max_min([1,2,3,45,6])"
   ]
  },
  {
   "cell_type": "code",
   "execution_count": 19,
   "id": "8c6ba1a3-bb83-446b-aaa1-6587aa91bd3b",
   "metadata": {},
   "outputs": [
    {
     "name": "stdout",
     "output_type": "stream",
     "text": [
      "[1, 2, 3, 4, 5]\n"
     ]
    }
   ],
   "source": [
    "#Remove duplicates from a list.\n",
    "def duplicate(lst):\n",
    "    l=[]\n",
    "    for i in lst:\n",
    "        if i not in l:\n",
    "            l.append(i)\n",
    "    return l\n",
    "\n",
    "r= duplicate([1, 2, 2, 3, 4, 4, 5])\n",
    "print(r)"
   ]
  },
  {
   "cell_type": "code",
   "execution_count": null,
   "id": "4ba73d4e-0b05-49fa-b6a4-fd8c89846f69",
   "metadata": {},
   "outputs": [],
   "source": []
  }
 ],
 "metadata": {
  "kernelspec": {
   "display_name": "Python 3 (ipykernel)",
   "language": "python",
   "name": "python3"
  },
  "language_info": {
   "codemirror_mode": {
    "name": "ipython",
    "version": 3
   },
   "file_extension": ".py",
   "mimetype": "text/x-python",
   "name": "python",
   "nbconvert_exporter": "python",
   "pygments_lexer": "ipython3",
   "version": "3.12.7"
  }
 },
 "nbformat": 4,
 "nbformat_minor": 5
}
