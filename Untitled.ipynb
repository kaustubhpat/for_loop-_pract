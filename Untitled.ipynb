{
 "cells": [
  {
   "cell_type": "code",
   "execution_count": 3,
   "id": "e82f80db-a081-4778-8418-34371cf200a4",
   "metadata": {},
   "outputs": [
    {
     "name": "stdout",
     "output_type": "stream",
     "text": [
      "[1, 2, 3, 4, 5, 6]\n"
     ]
    }
   ],
   "source": [
    "l1 = [1,2,3]\n",
    "l2 = [4,5,6]\n",
    "for i in l2:\n",
    "    l1.append(i)\n",
    "print(l1)    "
   ]
  },
  {
   "cell_type": "code",
   "execution_count": 7,
   "id": "0f3a09cf-07dd-4722-98de-61ebc9d7299f",
   "metadata": {},
   "outputs": [
    {
     "name": "stdout",
     "output_type": "stream",
     "text": [
      "['a', 'b', 'c']\n"
     ]
    }
   ],
   "source": [
    "s= 'abc'\n",
    "d= [i[::-1] for i in s]\n",
    "print(d)"
   ]
  },
  {
   "cell_type": "code",
   "execution_count": 3,
   "id": "f28b9465-830d-4de8-83aa-b6af63447e8f",
   "metadata": {},
   "outputs": [
    {
     "name": "stdin",
     "output_type": "stream",
     "text": [
      "  12\n"
     ]
    },
    {
     "name": "stdout",
     "output_type": "stream",
     "text": [
      "even\n"
     ]
    }
   ],
   "source": [
    "#Write a Python program to check if a given number is even or odd\n",
    "num = int(input(\" \"))\n",
    "if num%2==0:\n",
    "    print(\"even\")\n",
    "else:\n",
    "    print(\"odd\")\n",
    "        "
   ]
  },
  {
   "cell_type": "code",
   "execution_count": 6,
   "id": "946c4d0d-c723-4b97-91cb-d9c2a262a752",
   "metadata": {},
   "outputs": [
    {
     "name": "stdin",
     "output_type": "stream",
     "text": [
      "  7\n"
     ]
    },
    {
     "name": "stdout",
     "output_type": "stream",
     "text": [
      "(7, 7)\n"
     ]
    }
   ],
   "source": [
    "#Write a function that takes a list of numbers and returns the maximum and minimum values in the list.\n",
    "def more(lst):\n",
    "    return max(lst),min(lst)\n",
    "    \n",
    "lst = list(map(int,input( \" \").split()))\n",
    "l= more(lst)\n",
    "print(l)\n",
    "\n",
    "    "
   ]
  },
  {
   "cell_type": "code",
   "execution_count": 8,
   "id": "8961c9fe-5bff-49a3-aaf4-92d5633d03c4",
   "metadata": {},
   "outputs": [
    {
     "name": "stdin",
     "output_type": "stream",
     "text": [
      "   88\n"
     ]
    },
    {
     "name": "stdout",
     "output_type": "stream",
     "text": [
      "0 1 1 2 3 5 8 13 21 34 55 89 144 233 377 610 987 1597 2584 4181 6765 10946 17711 28657 46368 75025 121393 196418 317811 514229 832040 1346269 2178309 3524578 5702887 9227465 14930352 24157817 39088169 63245986 102334155 165580141 267914296 433494437 701408733 1134903170 1836311903 2971215073 4807526976 7778742049 12586269025 20365011074 32951280099 53316291173 86267571272 139583862445 225851433717 365435296162 591286729879 956722026041 1548008755920 2504730781961 4052739537881 6557470319842 10610209857723 17167680177565 27777890035288 44945570212853 72723460248141 117669030460994 190392490709135 308061521170129 498454011879264 806515533049393 1304969544928657 2111485077978050 3416454622906707 5527939700884757 8944394323791464 14472334024676221 23416728348467685 37889062373143906 61305790721611591 99194853094755497 160500643816367088 259695496911122585 420196140727489673 679891637638612258 "
     ]
    }
   ],
   "source": [
    "#Write a program to print the Fibonacci sequence up to n terms.\n",
    "def fibonacc(n):\n",
    "    a,b = (0,1)\n",
    "    for _ in range(n):\n",
    "        print(a,end=\" \")\n",
    "        a,b =b,a+b\n",
    "\n",
    "n=int(input(\"  \"))\n",
    "fibonacc(n)"
   ]
  },
  {
   "cell_type": "code",
   "execution_count": null,
   "id": "a5ea92e9-3d7b-4623-a28a-0f19e3d4fea7",
   "metadata": {},
   "outputs": [],
   "source": [
    "#Create a Python dictionary to store student names as keys and their scores as values. Write a function to find the student with the highest score.\n",
    "def highest_score(students):\n",
    "    top_students = max(students,key=students.get)\n",
    "    return top_students,students[top_students]\n",
    "\n",
    "students = {\n",
    "    \"Alice\": 85,\n",
    "    \"Bob\": 92,\n",
    "    \"Charlie\": 78,\n",
    "    \"David\": 88\n",
    "}\n",
    "student,score = highest_score(students)\n",
    "print(f\"The student with the highest score is {student} with a score of {score}.\")"
   ]
  },
  {
   "cell_type": "code",
   "execution_count": 1,
   "id": "22948567-1717-4d77-8d6a-5e632a4613de",
   "metadata": {},
   "outputs": [
    {
     "name": "stdout",
     "output_type": "stream",
     "text": [
      "olleh\n"
     ]
    }
   ],
   "source": [
    "#Reversal: Write a function to reverse a given string. For example, \"hello\" becomes \"olleh\".\n",
    "string1 = \"hello\"\n",
    "s = string1[::-1]\n",
    "print(s)"
   ]
  },
  {
   "cell_type": "code",
   "execution_count": 10,
   "id": "46d4339d-5742-41b6-9a91-4d1f087292ff",
   "metadata": {},
   "outputs": [
    {
     "name": "stdout",
     "output_type": "stream",
     "text": [
      "a1p2l1e1\n"
     ]
    }
   ],
   "source": [
    "#Character Count: Write a program to count the occurrences of each character in a given string. For example, in \"apple\", 'p' occurs 2 times.\n",
    "\n",
    "st = \"apple\"\n",
    "count = 1\n",
    "comp = \"\"\n",
    "for i in range(1,len(st)):\n",
    "    if st[i] == st[i-1]:\n",
    "        count += 1\n",
    "    else:\n",
    "        comp += st[i-1] + str(count)\n",
    "        count = 1\n",
    "\n",
    "comp += st[-1] + str(count)\n",
    "comp.split()\n",
    "print(comp)"
   ]
  },
  {
   "cell_type": "code",
   "execution_count": 11,
   "id": "f5b91edb-2e69-4954-ad7f-27849982cfe3",
   "metadata": {},
   "outputs": [
    {
     "name": "stdout",
     "output_type": "stream",
     "text": [
      "{'a': 1, 'p': 2, 'l': 1, 'e': 1}\n"
     ]
    }
   ],
   "source": [
    "st = \"apple\"\n",
    "char_count = {}\n",
    "for char in st:\n",
    "    if char in char_count:\n",
    "        char_count[char] += 1\n",
    "    else:\n",
    "        char_count[char] = 1\n",
    "print(char_count)\n",
    "        \n",
    "        "
   ]
  },
  {
   "cell_type": "code",
   "execution_count": 15,
   "id": "2b18fd8e-0953-4304-87f0-631394d87bb0",
   "metadata": {},
   "outputs": [
    {
     "name": "stdout",
     "output_type": "stream",
     "text": [
      "racqwca is not palindrome\n"
     ]
    }
   ],
   "source": [
    "#Palindrome Check: Write a function to check if a string is a palindrome (it reads the same backward as forward). Example: \"racecar\" is a palindrome.\n",
    "\n",
    "def check_palindrome(string1):\n",
    "    if string1 == string1[::-1]:\n",
    "        print(f\"{string1} is palindrome\")\n",
    "    else:\n",
    "        print(f\"{string1} is not palindrome\")\n",
    "\n",
    "string1 = \"racqwca\"\n",
    "check_palindrome(string1)\n"
   ]
  },
  {
   "cell_type": "code",
   "execution_count": 27,
   "id": "d02cf054-b2ec-459d-9030-ec3228e31e44",
   "metadata": {},
   "outputs": [
    {
     "name": "stdout",
     "output_type": "stream",
     "text": [
      "3\n"
     ]
    }
   ],
   "source": [
    "#Substring Occurrences: Count how many times a specific substring appears in a string. For example, \"abcabcabc\" contains \"abc\" 3 times.\n",
    "\n",
    "string1 = \"abcabcabc\" \n",
    "substring = \"abc\"\n",
    "count = 0\n",
    "for i in range(len(string1) - len(substring) + 1):\n",
    "    if string1[i:i+len(substring)] == substring:\n",
    "        count += 1\n",
    "print(count)"
   ]
  },
  {
   "cell_type": "code",
   "execution_count": 3,
   "id": "ff834ee1-4f53-44e1-8882-def6369ab9b1",
   "metadata": {},
   "outputs": [
    {
     "name": "stdout",
     "output_type": "stream",
     "text": [
      "4\n"
     ]
    }
   ],
   "source": [
    "#Substring Occurrences: Count how many times a specific substring appears in a string. For example, \"abcabcabcabc\" contains \"abc\" 4 times.\n",
    "string2 = \"abcabcabcabc\"\n",
    "sub = \"abc\"\n",
    "count =0\n",
    "for i in range(len(string2) - len(sub) + 1):\n",
    "    if string2[i:i+len(sub)] == sub:\n",
    "        count +=1\n",
    "print(count)\n"
   ]
  },
  {
   "cell_type": "code",
   "execution_count": 5,
   "id": "dd24e2ac-5379-4e7e-9e7b-0af1aa94f702",
   "metadata": {},
   "outputs": [
    {
     "name": "stdout",
     "output_type": "stream",
     "text": [
      "hELLO wORLD\n"
     ]
    }
   ],
   "source": [
    "#Case Conversion: Write a program to convert all uppercase letters to lowercase and vice versa in a string. Example: \"Hello World\" becomes \"hELLO wORLD\".\n",
    "string1 = \"Hello World\" \n",
    "t = string1.swapcase()\n",
    "print(t)"
   ]
  },
  {
   "cell_type": "code",
   "execution_count": 11,
   "id": "da71114d-0efb-4323-9e9b-435fa1ae85fc",
   "metadata": {},
   "outputs": [
    {
     "name": "stdout",
     "output_type": "stream",
     "text": [
      "btfl\n"
     ]
    }
   ],
   "source": [
    "#Remove Vowels: Remove all vowels (a, e, i, o, u) from a string. For example, \"beautiful\" becomes \"btfl\".\n",
    "st = \"beautiful\"\n",
    "vowels = 'aeiou'\n",
    "comp = \"\"\n",
    "for char in st:\n",
    "    if char not in vowels:\n",
    "        comp += char\n",
    "\n",
    "print(comp)"
   ]
  },
  {
   "cell_type": "code",
   "execution_count": 24,
   "id": "f64aafda-161c-47dc-adcf-997486c7db1d",
   "metadata": {},
   "outputs": [
    {
     "name": "stdout",
     "output_type": "stream",
     "text": [
      "w\n"
     ]
    }
   ],
   "source": [
    "#First Unique Character: Find the first non-repeating character in a string. Example: In \"swiss\", the first unique character is 'w'.\n",
    "st = \"swiss\"\n",
    "uni_char = None\n",
    "for i in st:\n",
    "    if st.count(i)==1:\n",
    "        uni_char = i\n",
    "        break\n",
    "\n",
    "print(uni_char)"
   ]
  },
  {
   "cell_type": "code",
   "execution_count": 31,
   "id": "45ff0103-613f-472c-b0bb-e3bc3425a03e",
   "metadata": {},
   "outputs": [
    {
     "name": "stdout",
     "output_type": "stream",
     "text": [
      "yes\n"
     ]
    }
   ],
   "source": [
    "#String Rotation: Check if one string is a rotation of another. Example: \"abcd\" and \"c\" are rotations.\n",
    "st1 = 'abcd'\n",
    "r = 'c'\n",
    "for char in st1:\n",
    "    if char in r:\n",
    "        print(\"yes\")\n",
    "        break"
   ]
  },
  {
   "cell_type": "code",
   "execution_count": 38,
   "id": "166e1fa0-7690-4f28-a99c-c53f78814fd6",
   "metadata": {},
   "outputs": [
    {
     "name": "stdout",
     "output_type": "stream",
     "text": [
      "yes\n"
     ]
    }
   ],
   "source": [
    "#String Rotation: Check if one string is a rotation of another. Example: \"abcd\" and \"cdab\" are rotations.\n",
    "st1 = 'abcd'\n",
    "r = 'cdab'\n",
    "if len(st1) == len(r) and r in (st1 + st1):\n",
    "    print(\"yes\")\n",
    "else:\n",
    "    print(\"no\")"
   ]
  },
  {
   "cell_type": "code",
   "execution_count": 57,
   "id": "e894873f-1297-462b-abbd-cc1766dee106",
   "metadata": {},
   "outputs": [
    {
     "name": "stdout",
     "output_type": "stream",
     "text": [
      "World Hello\n"
     ]
    }
   ],
   "source": [
    "#Word Reversal: Reverse the order of words in a string. Example: \"Hello World\" becomes \"World Hello\"\n",
    "st = \"Hello World\"\n",
    "s = st.split()\n",
    "k =s[::-1]\n",
    "r = \" \".join(k)\n",
    "print(r)\n"
   ]
  },
  {
   "cell_type": "code",
   "execution_count": 73,
   "id": "8e70658c-bea2-428b-a556-09f79784e7a0",
   "metadata": {},
   "outputs": [
    {
     "name": "stdout",
     "output_type": "stream",
     "text": [
      "yes\n"
     ]
    }
   ],
   "source": [
    "#Anagram Check: Write a function to determine if two strings are anagrams of each other. Example: \"listen\" and \"silent\" are anagrams.\n",
    "s1 = \"listen\"\n",
    "s2 = \"silent\"\n",
    "\n",
    "if sorted(s1) == sorted(s2):\n",
    "    print(\"yes\")\n",
    "else:\n",
    "    print(\"no\")"
   ]
  },
  {
   "cell_type": "code",
   "execution_count": 84,
   "id": "eb579ef8-5815-431a-8eb8-6f79e90894e0",
   "metadata": {},
   "outputs": [
    {
     "name": "stdout",
     "output_type": "stream",
     "text": [
      "4\n"
     ]
    }
   ],
   "source": [
    "#Count Words: Write a program to count the number of words in a given string. For example, \"This is a test\" has 4 words.\n",
    "k = \"This is a test\"\n",
    "s = k.split()\n",
    "print(len(s))"
   ]
  },
  {
   "cell_type": "code",
   "execution_count": 89,
   "id": "0b8af55c-48f9-4d8e-935c-4a33383323d6",
   "metadata": {},
   "outputs": [
    {
     "name": "stdout",
     "output_type": "stream",
     "text": [
      "progamin\n"
     ]
    }
   ],
   "source": [
    "##Remove Duplicates: Remove duplicate characters from a string. For example, \"programming\" becomes \"progamin\".\n",
    "s = \"programming\"\n",
    "ori = \"\"\n",
    "for i in s:\n",
    "    if i not in ori:\n",
    "        ori += i\n",
    "\n",
    "print(ori)"
   ]
  },
  {
   "cell_type": "code",
   "execution_count": null,
   "id": "86352f5c-9bc6-4301-b76f-208549f1ceba",
   "metadata": {},
   "outputs": [],
   "source": []
  },
  {
   "cell_type": "code",
   "execution_count": null,
   "id": "c9199384-122a-46cd-89c7-2873c51f592a",
   "metadata": {},
   "outputs": [],
   "source": []
  },
  {
   "cell_type": "code",
   "execution_count": null,
   "id": "75896d9d-b866-4887-86dd-a2537cc1b8ec",
   "metadata": {},
   "outputs": [],
   "source": []
  }
 ],
 "metadata": {
  "kernelspec": {
   "display_name": "Python 3 (ipykernel)",
   "language": "python",
   "name": "python3"
  },
  "language_info": {
   "codemirror_mode": {
    "name": "ipython",
    "version": 3
   },
   "file_extension": ".py",
   "mimetype": "text/x-python",
   "name": "python",
   "nbconvert_exporter": "python",
   "pygments_lexer": "ipython3",
   "version": "3.12.7"
  }
 },
 "nbformat": 4,
 "nbformat_minor": 5
}
