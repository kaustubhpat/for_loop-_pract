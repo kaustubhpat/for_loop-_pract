{
 "cells": [
  {
   "cell_type": "code",
   "execution_count": 12,
   "id": "c2bffa2f-b9fb-42a3-b87c-332346612f34",
   "metadata": {},
   "outputs": [
    {
     "name": "stdout",
     "output_type": "stream",
     "text": [
      "[18, 28, 40]\n"
     ]
    }
   ],
   "source": [
    "a = [3,4,5] \n",
    "b = [6,7,8]\n",
    "c = []\n",
    "def multiply (a, b):\n",
    "    for i,j in zip(a,b):\n",
    "        c.append(i*j)\n",
    "    return c\n",
    "r = multiply(a,b)        \n",
    "print(r)"
   ]
  },
  {
   "cell_type": "code",
   "execution_count": 3,
   "id": "24ae4fab-c1db-4907-91eb-8e184ba3a018",
   "metadata": {},
   "outputs": [
    {
     "name": "stdout",
     "output_type": "stream",
     "text": [
      "olleh\n"
     ]
    }
   ],
   "source": [
    "#Reverse a String Write a Python function to reverse a given string.\n",
    "def rev (st):\n",
    "    return st[::-1]\n",
    "    \n",
    "\n",
    "k=rev(\"hello\")\n",
    "print(k)"
   ]
  },
  {
   "cell_type": "code",
   "execution_count": 14,
   "id": "e7a35e77-9ca5-4f07-b37a-b33e83941ed7",
   "metadata": {},
   "outputs": [
    {
     "name": "stdout",
     "output_type": "stream",
     "text": [
      "5\n"
     ]
    }
   ],
   "source": [
    "#Count Vowels Write a function to count the number of vowels in a string.\n",
    "def count_vowels(st):\n",
    "    vowels =\"aeiouAEIOU\"\n",
    "    count = 0\n",
    "    for char in st:\n",
    "        if char in vowels:\n",
    "            count += 1\n",
    "    return count\n",
    "\n",
    "l = count_vowels(\"kaustubhpatel\")\n",
    "print(l)"
   ]
  },
  {
   "cell_type": "code",
   "execution_count": 16,
   "id": "5c94c24f-8dc1-43e1-a251-687f0e9c39dd",
   "metadata": {},
   "outputs": [
    {
     "name": "stdout",
     "output_type": "stream",
     "text": [
      "True\n"
     ]
    }
   ],
   "source": [
    "#Check Palindrome Write a function to check if a string is a palindrome.\n",
    "def check_Palindrome(s):\n",
    "    return s == s[::-1]\n",
    "\n",
    "c = check_Palindrome(\"madam\")\n",
    "print(c)\n",
    "        \n",
    "    "
   ]
  },
  {
   "cell_type": "code",
   "execution_count": 18,
   "id": "4cf5feb9-c949-4731-8ea5-5a8fce5c1b88",
   "metadata": {},
   "outputs": [
    {
     "name": "stdout",
     "output_type": "stream",
     "text": [
      "(7, 1)\n"
     ]
    }
   ],
   "source": [
    "#Find Max and Min Write a Python function to find the maximum and minimum values in a list.\n",
    "def find_max_min(lst):\n",
    "    return max(lst),min(lst)\n",
    "\n",
    "c = find_max_min([1,2,3,4,5,6,7])\n",
    "print(c)"
   ]
  },
  {
   "cell_type": "code",
   "execution_count": 19,
   "id": "2c6a7910-f422-4736-af03-574b470a8695",
   "metadata": {},
   "outputs": [
    {
     "name": "stdout",
     "output_type": "stream",
     "text": [
      "[1, 2, 34, 5, 6, 45]\n"
     ]
    }
   ],
   "source": [
    "#Remove Duplicates Write a function to remove duplicate elements from a list.\n",
    "def remove_duplicate(lst):\n",
    "    return list(set(lst))\n",
    "\n",
    "x =remove_duplicate([1,2,34,5,6,45,5,6,6])\n",
    "print(x)"
   ]
  },
  {
   "cell_type": "code",
   "execution_count": 21,
   "id": "c80728de-e9c1-4c53-8e71-750cc6ffd1d7",
   "metadata": {},
   "outputs": [
    {
     "name": "stdout",
     "output_type": "stream",
     "text": [
      "[2, 4, 11, 33, 66, 455]\n"
     ]
    }
   ],
   "source": [
    "#Remove Duplicates Write a function to remove duplicate elements from a list.\n",
    "def sort_lst(lst):\n",
    "    n= len(lst)\n",
    "    for i in range(n):\n",
    "        for j in range(0,n-i-1):\n",
    "            if lst[j] > lst[j+1]:\n",
    "                lst[j],lst[j+1] = lst[j+1],lst[j]\n",
    "    return lst\n",
    "\n",
    "c = sort_lst([11,2,33,4,455,66])\n",
    "print(c)\n"
   ]
  },
  {
   "cell_type": "code",
   "execution_count": 10,
   "id": "70b5cda5-fb26-43c5-a1a4-632bdcf3b4f0",
   "metadata": {},
   "outputs": [
    {
     "name": "stdout",
     "output_type": "stream",
     "text": [
      "True\n"
     ]
    }
   ],
   "source": [
    "#Write a function to check if a given string is a palindrome. Ignore spaces, punctuation, and case.\n",
    "def check_palindrome(st):\n",
    "    if st==st[::-1]:\n",
    "        print(True)    \n",
    "\n",
    "\n",
    "check_palindrome(\"madam\")\n"
   ]
  },
  {
   "cell_type": "code",
   "execution_count": 13,
   "id": "55b90898-bcb4-4829-bd56-0eaf8988c7dc",
   "metadata": {},
   "outputs": [
    {
     "name": "stdin",
     "output_type": "stream",
     "text": [
      "   kp\n",
      "   lp\n"
     ]
    },
    {
     "data": {
      "text/plain": [
       "False"
      ]
     },
     "execution_count": 13,
     "metadata": {},
     "output_type": "execute_result"
    }
   ],
   "source": [
    "#Write a function to check if two strings are anagrams of each other.\n",
    "def anagrams(st1,st2):\n",
    "    return sorted(st1)==sorted(st2)\n",
    "\n",
    "st1 = input(\"  \")\n",
    "st2 = input(\"  \")\n",
    "anagrams(st1,st2)"
   ]
  },
  {
   "cell_type": "code",
   "execution_count": 22,
   "id": "729e8238-09d5-4a9a-ac2d-1da9d2af6695",
   "metadata": {},
   "outputs": [
    {
     "name": "stdout",
     "output_type": "stream",
     "text": [
      "{'k': 1, 'a': 1, 'u': 2, 's': 1, 't': 1, 'b': 1, 'h': 1}\n"
     ]
    }
   ],
   "source": [
    "# function to find the frequency of each character in a given string.\n",
    "def freq(st):\n",
    "    count = {}\n",
    "    for i in st:\n",
    "        if i in count:\n",
    "            count[i] +=1\n",
    "        else:\n",
    "            count[i] = 1\n",
    "    return count\n",
    "st=freq(\"kaustubh\")\n",
    "print(st)"
   ]
  },
  {
   "cell_type": "code",
   "execution_count": 3,
   "id": "43f93ff1-0792-4def-8302-e10cdee62862",
   "metadata": {},
   "outputs": [
    {
     "ename": "TypeError",
     "evalue": "'int' object is not iterable",
     "output_type": "error",
     "traceback": [
      "\u001b[1;31m---------------------------------------------------------------------------\u001b[0m",
      "\u001b[1;31mTypeError\u001b[0m                                 Traceback (most recent call last)",
      "Cell \u001b[1;32mIn[3], line 9\u001b[0m\n\u001b[0;32m      6\u001b[0m         st[::\u001b[38;5;241m-\u001b[39m\u001b[38;5;241m1\u001b[39m]\n\u001b[0;32m      7\u001b[0m     \u001b[38;5;28;01mreturn\u001b[39;00m st\n\u001b[1;32m----> 9\u001b[0m rev(\u001b[38;5;124m\"\u001b[39m\u001b[38;5;124mHello World\u001b[39m\u001b[38;5;124m\"\u001b[39m)\n",
      "Cell \u001b[1;32mIn[3], line 5\u001b[0m, in \u001b[0;36mrev\u001b[1;34m(st)\u001b[0m\n\u001b[0;32m      4\u001b[0m \u001b[38;5;28;01mdef\u001b[39;00m \u001b[38;5;21mrev\u001b[39m (st):\n\u001b[1;32m----> 5\u001b[0m     \u001b[38;5;28;01mfor\u001b[39;00m word \u001b[38;5;129;01min\u001b[39;00m \u001b[38;5;28mlen\u001b[39m(st):\n\u001b[0;32m      6\u001b[0m         st[::\u001b[38;5;241m-\u001b[39m\u001b[38;5;241m1\u001b[39m]\n\u001b[0;32m      7\u001b[0m     \u001b[38;5;28;01mreturn\u001b[39;00m st\n",
      "\u001b[1;31mTypeError\u001b[0m: 'int' object is not iterable"
     ]
    }
   ],
   "source": [
    "#Given a string, reverse the order of the words without reversing the characters in each word.\n",
    "'''Example: \"Hello World\" → \"World Hello\" '''\n",
    "\n",
    "def rev (st):\n",
    "    for word in len(st):\n",
    "        st[::-1]\n",
    "    return st\n",
    "\n",
    "rev(\"Hello World\")"
   ]
  },
  {
   "cell_type": "code",
   "execution_count": null,
   "id": "b350794c-37e4-45bf-9747-193cc3477262",
   "metadata": {},
   "outputs": [],
   "source": []
  }
 ],
 "metadata": {
  "kernelspec": {
   "display_name": "Python 3 (ipykernel)",
   "language": "python",
   "name": "python3"
  },
  "language_info": {
   "codemirror_mode": {
    "name": "ipython",
    "version": 3
   },
   "file_extension": ".py",
   "mimetype": "text/x-python",
   "name": "python",
   "nbconvert_exporter": "python",
   "pygments_lexer": "ipython3",
   "version": "3.12.7"
  }
 },
 "nbformat": 4,
 "nbformat_minor": 5
}
