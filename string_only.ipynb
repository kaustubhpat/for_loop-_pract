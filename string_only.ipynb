{
 "cells": [
  {
   "cell_type": "code",
   "execution_count": 2,
   "id": "233e7fa0-9464-4a82-89fb-582abe0493de",
   "metadata": {},
   "outputs": [
    {
     "name": "stdout",
     "output_type": "stream",
     "text": [
      "hbutsuak\n"
     ]
    }
   ],
   "source": [
    "######write a programe to reverse string#########\n",
    "s = \"kaustubh\"\n",
    "output = \"\"\n",
    "i = len(s) - 1\n",
    "while i>=0:\n",
    "    output = output +s[i]\n",
    "    i = i -1\n",
    "\n",
    "print(output)"
   ]
  },
  {
   "cell_type": "code",
   "execution_count": 4,
   "id": "f64d205c-d124-43f3-859c-c78282542616",
   "metadata": {},
   "outputs": [
    {
     "data": {
      "text/plain": [
       "'hbutsuak'"
      ]
     },
     "execution_count": 4,
     "metadata": {},
     "output_type": "execute_result"
    }
   ],
   "source": [
    "def rev(st):\n",
    "    output = \"\"\n",
    "    i = len(st)-1\n",
    "    while i>=0:\n",
    "        output = output + st[i]\n",
    "        i = i-1\n",
    "    return output\n",
    "rev(\"kaustubh\")"
   ]
  },
  {
   "cell_type": "code",
   "execution_count": 7,
   "id": "46fd2c3f-41d1-4fcb-a76c-9ff7159d3bff",
   "metadata": {},
   "outputs": [
    {
     "name": "stdout",
     "output_type": "stream",
     "text": [
      "learn to easy very is python\n"
     ]
    }
   ],
   "source": [
    "#write a programe to  reverese the order of words?\n",
    "s = \"python is very easy to learn\"\n",
    "l = s.split()\n",
    "k=l[::-1]\n",
    "m= ' '.join(k)\n",
    "print(m)"
   ]
  },
  {
   "cell_type": "code",
   "execution_count": 11,
   "id": "080923f6-4959-431a-a3d6-cdc2445daedf",
   "metadata": {},
   "outputs": [
    {
     "name": "stdout",
     "output_type": "stream",
     "text": [
      "hbutsuak letap\n"
     ]
    }
   ],
   "source": [
    "#write a programe of to reverse the internal contain of each word\n",
    "s = \"kaustubh patel\"\n",
    "l = s.split()\n",
    "l1 = []\n",
    "for word in l:\n",
    "    l1.append(word[::-1])\n",
    "c= ' '.join(l1)    \n",
    "print(c)"
   ]
  },
  {
   "cell_type": "code",
   "execution_count": null,
   "id": "59f8d560-d2c7-4c0e-97e5-c9817d01d154",
   "metadata": {},
   "outputs": [],
   "source": [
    "#write a programe of to reverse the internal contain of evey second word in string\n",
    "\n"
   ]
  }
 ],
 "metadata": {
  "kernelspec": {
   "display_name": "Python 3 (ipykernel)",
   "language": "python",
   "name": "python3"
  },
  "language_info": {
   "codemirror_mode": {
    "name": "ipython",
    "version": 3
   },
   "file_extension": ".py",
   "mimetype": "text/x-python",
   "name": "python",
   "nbconvert_exporter": "python",
   "pygments_lexer": "ipython3",
   "version": "3.12.7"
  }
 },
 "nbformat": 4,
 "nbformat_minor": 5
}
